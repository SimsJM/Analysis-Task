{
 "cells": [
  {
   "cell_type": "markdown",
   "metadata": {},
   "source": [
    "# Jamie Sims - Revolut Analysis Task\n",
    "\n",
    "The following is the data analysis conducted to support my final presentation. \n",
    "\n",
    "**S**ituation: The passrate has decreaesed significnatly in the recent period <br>\n",
    "**T**ask: To write a report that identifies <br> - root causes for this drop in success rate <br> - suggested solutions \n",
    "\n",
    "### Definitions\n",
    "\n",
    "- **Recent Period**: Need to define recent period <br>\n",
    "- **Pass Rate**: number of succesful KYC checks (Success) / number of attempts (attempts)"
   ]
  },
  {
   "cell_type": "code",
   "execution_count": 3,
   "metadata": {},
   "outputs": [],
   "source": [
    "import pandas as pd\n",
    "\n",
    "docs_report_file = 'doc_reports_sample.csv'\n",
    "faces_report_file = 'face_reports_sample.csv'\n",
    "\n",
    "documents = pd.read_csv(docs_report_file, parse_dates=[\"created_at\"])\n",
    "faces = pd.read_csv(faces_report_file, parse_dates=[\"created_at\"])"
   ]
  },
  {
   "cell_type": "markdown",
   "metadata": {},
   "source": [
    "Variables to be used in calculations defined below:"
   ]
  },
  {
   "cell_type": "code",
   "execution_count": 11,
   "metadata": {},
   "outputs": [],
   "source": [
    "unique_users = documents[\"user_id\"].nunique()\n",
    "document_failures = documents[documents[\"result\"]==\"consider\"]\n",
    "faces_failures = faces[faces[\"result\"]==\"consider\"]"
   ]
  },
  {
   "cell_type": "markdown",
   "metadata": {},
   "source": [
    "## Analysis of the Document Upload Failures"
   ]
  },
  {
   "cell_type": "code",
   "execution_count": 19,
   "metadata": {
    "scrolled": true
   },
   "outputs": [
    {
     "data": {
      "text/html": [
       "<div>\n",
       "<style scoped>\n",
       "    .dataframe tbody tr th:only-of-type {\n",
       "        vertical-align: middle;\n",
       "    }\n",
       "\n",
       "    .dataframe tbody tr th {\n",
       "        vertical-align: top;\n",
       "    }\n",
       "\n",
       "    .dataframe thead th {\n",
       "        text-align: right;\n",
       "    }\n",
       "</style>\n",
       "<table border=\"1\" class=\"dataframe\">\n",
       "  <thead>\n",
       "    <tr style=\"text-align: right;\">\n",
       "      <th></th>\n",
       "      <th>Unnamed: 0</th>\n",
       "      <th>user_id</th>\n",
       "      <th>result</th>\n",
       "      <th>visual_authenticity_result</th>\n",
       "      <th>image_integrity_result</th>\n",
       "      <th>face_detection_result</th>\n",
       "      <th>image_quality_result</th>\n",
       "      <th>created_at</th>\n",
       "      <th>supported_document_result</th>\n",
       "      <th>conclusive_document_quality_result</th>\n",
       "      <th>colour_picture_result</th>\n",
       "      <th>data_validation_result</th>\n",
       "      <th>data_consistency_result</th>\n",
       "      <th>data_comparison_result</th>\n",
       "      <th>attempt_id</th>\n",
       "      <th>police_record_result</th>\n",
       "      <th>compromised_document_result</th>\n",
       "      <th>properties</th>\n",
       "      <th>sub_result</th>\n",
       "    </tr>\n",
       "  </thead>\n",
       "  <tbody>\n",
       "    <tr>\n",
       "      <th>0</th>\n",
       "      <td>27241</td>\n",
       "      <td>8190909e566647a5b6afeee9b4ec6c6a</td>\n",
       "      <td>clear</td>\n",
       "      <td>clear</td>\n",
       "      <td>clear</td>\n",
       "      <td>clear</td>\n",
       "      <td>clear</td>\n",
       "      <td>2017-05-25 08:38:56</td>\n",
       "      <td>clear</td>\n",
       "      <td>NaN</td>\n",
       "      <td>NaN</td>\n",
       "      <td>clear</td>\n",
       "      <td>NaN</td>\n",
       "      <td>clear</td>\n",
       "      <td>30e11e95e30748f485a2271ca5e6abb8</td>\n",
       "      <td>clear</td>\n",
       "      <td>NaN</td>\n",
       "      <td>{'gender': 'Female', 'document_type': 'driving...</td>\n",
       "      <td>clear</td>\n",
       "    </tr>\n",
       "    <tr>\n",
       "      <th>1</th>\n",
       "      <td>28369</td>\n",
       "      <td>6b62136dfde348a99855e350294aaf5d</td>\n",
       "      <td>clear</td>\n",
       "      <td>clear</td>\n",
       "      <td>clear</td>\n",
       "      <td>clear</td>\n",
       "      <td>clear</td>\n",
       "      <td>2017-05-31 08:12:51</td>\n",
       "      <td>clear</td>\n",
       "      <td>NaN</td>\n",
       "      <td>NaN</td>\n",
       "      <td>clear</td>\n",
       "      <td>NaN</td>\n",
       "      <td>clear</td>\n",
       "      <td>4c0bfde8eb2249ed820e1f61d3ec3e33</td>\n",
       "      <td>clear</td>\n",
       "      <td>NaN</td>\n",
       "      <td>{'gender': 'Male', 'document_type': 'driving_l...</td>\n",
       "      <td>clear</td>\n",
       "    </tr>\n",
       "    <tr>\n",
       "      <th>2</th>\n",
       "      <td>27988</td>\n",
       "      <td>73679363dccc46fa9f34a4fefd0d76e3</td>\n",
       "      <td>clear</td>\n",
       "      <td>clear</td>\n",
       "      <td>clear</td>\n",
       "      <td>clear</td>\n",
       "      <td>clear</td>\n",
       "      <td>2017-05-29 15:07:04</td>\n",
       "      <td>clear</td>\n",
       "      <td>NaN</td>\n",
       "      <td>NaN</td>\n",
       "      <td>clear</td>\n",
       "      <td>clear</td>\n",
       "      <td>clear</td>\n",
       "      <td>c5004fd1fc1d4e36a11433b70d960867</td>\n",
       "      <td>clear</td>\n",
       "      <td>NaN</td>\n",
       "      <td>{'gender': 'Male', 'nationality': 'GBR', 'docu...</td>\n",
       "      <td>clear</td>\n",
       "    </tr>\n",
       "    <tr>\n",
       "      <th>3</th>\n",
       "      <td>27529</td>\n",
       "      <td>07857065dfa64db386739ec4fff47856</td>\n",
       "      <td>consider</td>\n",
       "      <td>clear</td>\n",
       "      <td>clear</td>\n",
       "      <td>clear</td>\n",
       "      <td>clear</td>\n",
       "      <td>2017-05-26 19:00:35</td>\n",
       "      <td>clear</td>\n",
       "      <td>NaN</td>\n",
       "      <td>NaN</td>\n",
       "      <td>clear</td>\n",
       "      <td>clear</td>\n",
       "      <td>consider</td>\n",
       "      <td>e4b26d4ddda545c9931a0a845cd65109</td>\n",
       "      <td>clear</td>\n",
       "      <td>NaN</td>\n",
       "      <td>{'gender': 'Male', 'nationality': 'PER', 'docu...</td>\n",
       "      <td>caution</td>\n",
       "    </tr>\n",
       "    <tr>\n",
       "      <th>4</th>\n",
       "      <td>47987</td>\n",
       "      <td>9f887805b2af49069349ff107e0bca01</td>\n",
       "      <td>clear</td>\n",
       "      <td>clear</td>\n",
       "      <td>clear</td>\n",
       "      <td>clear</td>\n",
       "      <td>clear</td>\n",
       "      <td>2017-05-29 14:38:21</td>\n",
       "      <td>clear</td>\n",
       "      <td>NaN</td>\n",
       "      <td>NaN</td>\n",
       "      <td>clear</td>\n",
       "      <td>clear</td>\n",
       "      <td>clear</td>\n",
       "      <td>8ead2b23ef664e4d85fae798a7d5d52c</td>\n",
       "      <td>clear</td>\n",
       "      <td>NaN</td>\n",
       "      <td>{'gender': 'Male', 'issuing_date': '2011-03', ...</td>\n",
       "      <td>clear</td>\n",
       "    </tr>\n",
       "  </tbody>\n",
       "</table>\n",
       "</div>"
      ],
      "text/plain": [
       "   Unnamed: 0                           user_id    result  \\\n",
       "0       27241  8190909e566647a5b6afeee9b4ec6c6a     clear   \n",
       "1       28369  6b62136dfde348a99855e350294aaf5d     clear   \n",
       "2       27988  73679363dccc46fa9f34a4fefd0d76e3     clear   \n",
       "3       27529  07857065dfa64db386739ec4fff47856  consider   \n",
       "4       47987  9f887805b2af49069349ff107e0bca01     clear   \n",
       "\n",
       "  visual_authenticity_result image_integrity_result face_detection_result  \\\n",
       "0                      clear                  clear                 clear   \n",
       "1                      clear                  clear                 clear   \n",
       "2                      clear                  clear                 clear   \n",
       "3                      clear                  clear                 clear   \n",
       "4                      clear                  clear                 clear   \n",
       "\n",
       "  image_quality_result          created_at supported_document_result  \\\n",
       "0                clear 2017-05-25 08:38:56                     clear   \n",
       "1                clear 2017-05-31 08:12:51                     clear   \n",
       "2                clear 2017-05-29 15:07:04                     clear   \n",
       "3                clear 2017-05-26 19:00:35                     clear   \n",
       "4                clear 2017-05-29 14:38:21                     clear   \n",
       "\n",
       "  conclusive_document_quality_result colour_picture_result  \\\n",
       "0                                NaN                   NaN   \n",
       "1                                NaN                   NaN   \n",
       "2                                NaN                   NaN   \n",
       "3                                NaN                   NaN   \n",
       "4                                NaN                   NaN   \n",
       "\n",
       "  data_validation_result data_consistency_result data_comparison_result  \\\n",
       "0                  clear                     NaN                  clear   \n",
       "1                  clear                     NaN                  clear   \n",
       "2                  clear                   clear                  clear   \n",
       "3                  clear                   clear               consider   \n",
       "4                  clear                   clear                  clear   \n",
       "\n",
       "                         attempt_id police_record_result  \\\n",
       "0  30e11e95e30748f485a2271ca5e6abb8                clear   \n",
       "1  4c0bfde8eb2249ed820e1f61d3ec3e33                clear   \n",
       "2  c5004fd1fc1d4e36a11433b70d960867                clear   \n",
       "3  e4b26d4ddda545c9931a0a845cd65109                clear   \n",
       "4  8ead2b23ef664e4d85fae798a7d5d52c                clear   \n",
       "\n",
       "  compromised_document_result  \\\n",
       "0                         NaN   \n",
       "1                         NaN   \n",
       "2                         NaN   \n",
       "3                         NaN   \n",
       "4                         NaN   \n",
       "\n",
       "                                          properties sub_result  \n",
       "0  {'gender': 'Female', 'document_type': 'driving...      clear  \n",
       "1  {'gender': 'Male', 'document_type': 'driving_l...      clear  \n",
       "2  {'gender': 'Male', 'nationality': 'GBR', 'docu...      clear  \n",
       "3  {'gender': 'Male', 'nationality': 'PER', 'docu...    caution  \n",
       "4  {'gender': 'Male', 'issuing_date': '2011-03', ...      clear  "
      ]
     },
     "execution_count": 19,
     "metadata": {},
     "output_type": "execute_result"
    }
   ],
   "source": [
    "documents.head(5)"
   ]
  },
  {
   "cell_type": "markdown",
   "metadata": {},
   "source": [
    "Breakdown of differnt secondary reasons for failure in Document Upload"
   ]
  },
  {
   "cell_type": "code",
   "execution_count": 58,
   "metadata": {},
   "outputs": [
    {
     "data": {
      "text/plain": [
       "446"
      ]
     },
     "execution_count": 58,
     "metadata": {},
     "output_type": "execute_result"
    }
   ],
   "source": [
    "conclusive_document_quality_fail = documents[documents[\"conclusive_document_quality_result\"]!=\"clear\"]\n",
    "conclusive_document_quality_fail[\"conclusive_document_quality_result\"].count()"
   ]
  },
  {
   "cell_type": "code",
   "execution_count": 54,
   "metadata": {},
   "outputs": [
    {
     "data": {
      "text/plain": [
       "2"
      ]
     },
     "execution_count": 54,
     "metadata": {},
     "output_type": "execute_result"
    }
   ],
   "source": [
    "colour_picture_fail = documents[documents[\"colour_picture_result\"]!=\"clear\"]\n",
    "colour_picture_fail[\"colour_picture_result\"].count()"
   ]
  },
  {
   "cell_type": "code",
   "execution_count": 55,
   "metadata": {},
   "outputs": [
    {
     "data": {
      "text/plain": [
       "56"
      ]
     },
     "execution_count": 55,
     "metadata": {},
     "output_type": "execute_result"
    }
   ],
   "source": [
    "data_validation_fail = documents[documents[\"data_validation_result\"]!=\"clear\"]\n",
    "data_validation_fail[\"data_validation_result\"].count()"
   ]
  },
  {
   "cell_type": "code",
   "execution_count": 56,
   "metadata": {},
   "outputs": [
    {
     "data": {
      "text/plain": [
       "5"
      ]
     },
     "execution_count": 56,
     "metadata": {},
     "output_type": "execute_result"
    }
   ],
   "source": [
    "data_consistency_fail = documents[documents[\"data_consistency_result\"]!=\"clear\"]\n",
    "data_consistency_fail[\"data_consistency_result\"].count()"
   ]
  },
  {
   "cell_type": "code",
   "execution_count": 57,
   "metadata": {},
   "outputs": [
    {
     "data": {
      "text/plain": [
       "5"
      ]
     },
     "execution_count": 57,
     "metadata": {},
     "output_type": "execute_result"
    }
   ],
   "source": [
    "data_comparison_fail = documents[documents[\"data_comparison_result\"]!=\"clear\"]\n",
    "data_comparison_fail[\"data_comparison_result\"].count()"
   ]
  },
  {
   "cell_type": "markdown",
   "metadata": {},
   "source": [
    "Breakdown of differnt primary reasons for failure in Document Upload "
   ]
  },
  {
   "cell_type": "code",
   "execution_count": 53,
   "metadata": {},
   "outputs": [
    {
     "data": {
      "text/plain": [
       "834"
      ]
     },
     "execution_count": 53,
     "metadata": {},
     "output_type": "execute_result"
    }
   ],
   "source": [
    "# DOCUMENTS: Primary Document Failures - Image Quality \n",
    "image_quality_fail = documents[documents[\"image_quality_result\"]!=\"clear\"]\n",
    "image_quality_fail[\"image_quality_result\"].count()"
   ]
  },
  {
   "cell_type": "code",
   "execution_count": 59,
   "metadata": {},
   "outputs": [
    {
     "data": {
      "text/plain": [
       "23"
      ]
     },
     "execution_count": 59,
     "metadata": {},
     "output_type": "execute_result"
    }
   ],
   "source": [
    "# DOCUMENTS: Primary Document Failures - face Detection\n",
    "face_detection_fail = documents[documents[\"face_detection_result\"]!=\"clear\"]\n",
    "face_detection_fail[\"face_detection_result\"].count()"
   ]
  },
  {
   "cell_type": "code",
   "execution_count": 60,
   "metadata": {},
   "outputs": [
    {
     "data": {
      "text/plain": [
       "1337"
      ]
     },
     "execution_count": 60,
     "metadata": {},
     "output_type": "execute_result"
    }
   ],
   "source": [
    "# DOCUMENTS: Primary Document Failures - image integrity \n",
    "image_integrity_fail = documents[documents[\"image_integrity_result\"]!=\"clear\"]\n",
    "image_integrity_fail[\"image_integrity_result\"].count()"
   ]
  },
  {
   "cell_type": "code",
   "execution_count": 40,
   "metadata": {},
   "outputs": [
    {
     "data": {
      "text/plain": [
       "90.7055630936228"
      ]
     },
     "execution_count": 40,
     "metadata": {},
     "output_type": "execute_result"
    }
   ],
   "source": [
    "# image integrity failure %\n",
    "document_image_integrity_failure_rate = image_integrity_fail[\"image_integrity_result\"].count()/document_failures[\"result\"].count()*100\n",
    "document_image_integrity_failure_rate"
   ]
  },
  {
   "cell_type": "code",
   "execution_count": 61,
   "metadata": {},
   "outputs": [
    {
     "data": {
      "text/plain": [
       "97"
      ]
     },
     "execution_count": 61,
     "metadata": {},
     "output_type": "execute_result"
    }
   ],
   "source": [
    "# Documents: Document Failures - Visual Authenticity \n",
    "visual_authenticity_fail = documents[documents[\"visual_authenticity_result\"]!=\"clear\"]\n",
    "visual_authenticity_fail[\"visual_authenticity_result\"].count()"
   ]
  },
  {
   "cell_type": "markdown",
   "metadata": {},
   "source": [
    "## Analysis of the Document Upload Failures"
   ]
  },
  {
   "cell_type": "code",
   "execution_count": 20,
   "metadata": {},
   "outputs": [
    {
     "data": {
      "text/html": [
       "<div>\n",
       "<style scoped>\n",
       "    .dataframe tbody tr th:only-of-type {\n",
       "        vertical-align: middle;\n",
       "    }\n",
       "\n",
       "    .dataframe tbody tr th {\n",
       "        vertical-align: top;\n",
       "    }\n",
       "\n",
       "    .dataframe thead th {\n",
       "        text-align: right;\n",
       "    }\n",
       "</style>\n",
       "<table border=\"1\" class=\"dataframe\">\n",
       "  <thead>\n",
       "    <tr style=\"text-align: right;\">\n",
       "      <th></th>\n",
       "      <th>Unnamed: 0</th>\n",
       "      <th>user_id</th>\n",
       "      <th>result</th>\n",
       "      <th>face_comparison_result</th>\n",
       "      <th>created_at</th>\n",
       "      <th>facial_image_integrity_result</th>\n",
       "      <th>visual_authenticity_result</th>\n",
       "      <th>properties</th>\n",
       "      <th>attempt_id</th>\n",
       "    </tr>\n",
       "  </thead>\n",
       "  <tbody>\n",
       "    <tr>\n",
       "      <th>0</th>\n",
       "      <td>58</td>\n",
       "      <td>ecee468d4a124a8eafeec61271cd0da1</td>\n",
       "      <td>clear</td>\n",
       "      <td>clear</td>\n",
       "      <td>2017-06-20 17:50:43</td>\n",
       "      <td>clear</td>\n",
       "      <td>clear</td>\n",
       "      <td>{}</td>\n",
       "      <td>9e4277fc1ddf4a059da3dd2db35f6c76</td>\n",
       "    </tr>\n",
       "    <tr>\n",
       "      <th>1</th>\n",
       "      <td>76</td>\n",
       "      <td>1895d2b1782740bb8503b9bf3edf1ead</td>\n",
       "      <td>clear</td>\n",
       "      <td>clear</td>\n",
       "      <td>2017-06-20 13:28:00</td>\n",
       "      <td>clear</td>\n",
       "      <td>clear</td>\n",
       "      <td>{}</td>\n",
       "      <td>ab259d3cb33b4711b0a5174e4de1d72c</td>\n",
       "    </tr>\n",
       "    <tr>\n",
       "      <th>2</th>\n",
       "      <td>217</td>\n",
       "      <td>e71b27ea145249878b10f5b3f1fb4317</td>\n",
       "      <td>clear</td>\n",
       "      <td>clear</td>\n",
       "      <td>2017-06-18 21:18:31</td>\n",
       "      <td>clear</td>\n",
       "      <td>clear</td>\n",
       "      <td>{}</td>\n",
       "      <td>2b7f1c6f3fc5416286d9f1c97b15e8f9</td>\n",
       "    </tr>\n",
       "    <tr>\n",
       "      <th>3</th>\n",
       "      <td>221</td>\n",
       "      <td>f512dc74bd1b4c109d9bd2981518a9f8</td>\n",
       "      <td>clear</td>\n",
       "      <td>clear</td>\n",
       "      <td>2017-06-18 22:17:29</td>\n",
       "      <td>clear</td>\n",
       "      <td>clear</td>\n",
       "      <td>{}</td>\n",
       "      <td>ab5989375b514968b2ff2b21095ed1ef</td>\n",
       "    </tr>\n",
       "    <tr>\n",
       "      <th>4</th>\n",
       "      <td>251</td>\n",
       "      <td>0685c7945d1349b7a954e1a0869bae4b</td>\n",
       "      <td>clear</td>\n",
       "      <td>clear</td>\n",
       "      <td>2017-06-18 19:54:21</td>\n",
       "      <td>clear</td>\n",
       "      <td>clear</td>\n",
       "      <td>{}</td>\n",
       "      <td>dd1b0b2dbe234f4cb747cc054de2fdd3</td>\n",
       "    </tr>\n",
       "  </tbody>\n",
       "</table>\n",
       "</div>"
      ],
      "text/plain": [
       "   Unnamed: 0                           user_id result face_comparison_result  \\\n",
       "0          58  ecee468d4a124a8eafeec61271cd0da1  clear                  clear   \n",
       "1          76  1895d2b1782740bb8503b9bf3edf1ead  clear                  clear   \n",
       "2         217  e71b27ea145249878b10f5b3f1fb4317  clear                  clear   \n",
       "3         221  f512dc74bd1b4c109d9bd2981518a9f8  clear                  clear   \n",
       "4         251  0685c7945d1349b7a954e1a0869bae4b  clear                  clear   \n",
       "\n",
       "           created_at facial_image_integrity_result  \\\n",
       "0 2017-06-20 17:50:43                         clear   \n",
       "1 2017-06-20 13:28:00                         clear   \n",
       "2 2017-06-18 21:18:31                         clear   \n",
       "3 2017-06-18 22:17:29                         clear   \n",
       "4 2017-06-18 19:54:21                         clear   \n",
       "\n",
       "  visual_authenticity_result properties                        attempt_id  \n",
       "0                      clear         {}  9e4277fc1ddf4a059da3dd2db35f6c76  \n",
       "1                      clear         {}  ab259d3cb33b4711b0a5174e4de1d72c  \n",
       "2                      clear         {}  2b7f1c6f3fc5416286d9f1c97b15e8f9  \n",
       "3                      clear         {}  ab5989375b514968b2ff2b21095ed1ef  \n",
       "4                      clear         {}  dd1b0b2dbe234f4cb747cc054de2fdd3  "
      ]
     },
     "execution_count": 20,
     "metadata": {},
     "output_type": "execute_result"
    }
   ],
   "source": [
    "faces.head(5)"
   ]
  },
  {
   "cell_type": "markdown",
   "metadata": {},
   "source": [
    "### Summary of Failure Reasons\n",
    "\n",
    "Analysis of the reasons for failure of facial recognition step"
   ]
  },
  {
   "cell_type": "code",
   "execution_count": 64,
   "metadata": {},
   "outputs": [
    {
     "data": {
      "text/plain": [
       "326"
      ]
     },
     "execution_count": 64,
     "metadata": {},
     "output_type": "execute_result"
    }
   ],
   "source": [
    "facial_image_integrity_fail = faces[faces[\"facial_image_integrity_result\"]!=\"clear\"]\n",
    "facial_image_integrity_fail[\"facial_image_integrity_result\"].count()"
   ]
  },
  {
   "cell_type": "code",
   "execution_count": 72,
   "metadata": {},
   "outputs": [
    {
     "data": {
      "text/plain": [
       "88.8283378746594"
      ]
     },
     "execution_count": 72,
     "metadata": {},
     "output_type": "execute_result"
    }
   ],
   "source": [
    "facial_image_integreit_fail_proportion = facial_image_integrity_fail[\"facial_image_integrity_result\"].count()/faces_failures[\"result\"].count()*100\n",
    "facial_image_integreit_fail_proportion"
   ]
  },
  {
   "cell_type": "code",
   "execution_count": 65,
   "metadata": {},
   "outputs": [
    {
     "data": {
      "text/plain": [
       "22"
      ]
     },
     "execution_count": 65,
     "metadata": {},
     "output_type": "execute_result"
    }
   ],
   "source": [
    "face_comparison_fail = faces[faces[\"face_comparison_result\"]!=\"clear\"]\n",
    "face_comparison_fail[\"face_comparison_result\"].count()"
   ]
  },
  {
   "cell_type": "code",
   "execution_count": 66,
   "metadata": {},
   "outputs": [
    {
     "data": {
      "text/plain": [
       "97"
      ]
     },
     "execution_count": 66,
     "metadata": {},
     "output_type": "execute_result"
    }
   ],
   "source": [
    "visual_authenticity_fail = faces[faces[\"visual_authenticity_result\"]!=\"clear\"]\n",
    "visual_authenticity_fail[\"visual_authenticity_result\"].count()"
   ]
  },
  {
   "cell_type": "code",
   "execution_count": 82,
   "metadata": {},
   "outputs": [
    {
     "data": {
      "text/html": [
       "<div>\n",
       "<style scoped>\n",
       "    .dataframe tbody tr th:only-of-type {\n",
       "        vertical-align: middle;\n",
       "    }\n",
       "\n",
       "    .dataframe tbody tr th {\n",
       "        vertical-align: top;\n",
       "    }\n",
       "\n",
       "    .dataframe thead th {\n",
       "        text-align: right;\n",
       "    }\n",
       "</style>\n",
       "<table border=\"1\" class=\"dataframe\">\n",
       "  <thead>\n",
       "    <tr style=\"text-align: right;\">\n",
       "      <th></th>\n",
       "      <th>Unnamed: 0</th>\n",
       "      <th>user_id</th>\n",
       "      <th>result</th>\n",
       "      <th>face_comparison_result</th>\n",
       "      <th>created_at</th>\n",
       "      <th>facial_image_integrity_result</th>\n",
       "      <th>visual_authenticity_result</th>\n",
       "      <th>properties</th>\n",
       "      <th>attempt_id</th>\n",
       "    </tr>\n",
       "  </thead>\n",
       "  <tbody>\n",
       "    <tr>\n",
       "      <th>2879</th>\n",
       "      <td>88935</td>\n",
       "      <td>0a743f7f87884a51bd8c165e0d3e70ed</td>\n",
       "      <td>clear</td>\n",
       "      <td>clear</td>\n",
       "      <td>2017-09-30 10:06:15</td>\n",
       "      <td>clear</td>\n",
       "      <td>NaN</td>\n",
       "      <td>{}</td>\n",
       "      <td>7477c4c591d747abb6103941afdf5dfb</td>\n",
       "    </tr>\n",
       "    <tr>\n",
       "      <th>2874</th>\n",
       "      <td>88899</td>\n",
       "      <td>0a743f7f87884a51bd8c165e0d3e70ed</td>\n",
       "      <td>consider</td>\n",
       "      <td>NaN</td>\n",
       "      <td>2017-09-30 09:55:07</td>\n",
       "      <td>consider</td>\n",
       "      <td>NaN</td>\n",
       "      <td>{}</td>\n",
       "      <td>98959d065b7d4d30af6785533a256eaa</td>\n",
       "    </tr>\n",
       "    <tr>\n",
       "      <th>3334</th>\n",
       "      <td>104039</td>\n",
       "      <td>0b3fe48a14554fa687e5152a1c20d768</td>\n",
       "      <td>clear</td>\n",
       "      <td>clear</td>\n",
       "      <td>2017-09-19 17:58:58</td>\n",
       "      <td>clear</td>\n",
       "      <td>clear</td>\n",
       "      <td>{}</td>\n",
       "      <td>5d02c7f7ad30435caeb88a0563393059</td>\n",
       "    </tr>\n",
       "    <tr>\n",
       "      <th>3350</th>\n",
       "      <td>104674</td>\n",
       "      <td>0b3fe48a14554fa687e5152a1c20d768</td>\n",
       "      <td>clear</td>\n",
       "      <td>clear</td>\n",
       "      <td>2017-09-19 17:39:43</td>\n",
       "      <td>clear</td>\n",
       "      <td>clear</td>\n",
       "      <td>{}</td>\n",
       "      <td>b6cd0902fdd74e72a0263781551cb8b7</td>\n",
       "    </tr>\n",
       "    <tr>\n",
       "      <th>4087</th>\n",
       "      <td>127521</td>\n",
       "      <td>0b677d16a072467eb95dd396e25840d9</td>\n",
       "      <td>clear</td>\n",
       "      <td>clear</td>\n",
       "      <td>2017-08-31 22:38:25</td>\n",
       "      <td>clear</td>\n",
       "      <td>clear</td>\n",
       "      <td>{}</td>\n",
       "      <td>344fecf0bcbc42e3a8bd92bc469e1ddd</td>\n",
       "    </tr>\n",
       "    <tr>\n",
       "      <th>...</th>\n",
       "      <td>...</td>\n",
       "      <td>...</td>\n",
       "      <td>...</td>\n",
       "      <td>...</td>\n",
       "      <td>...</td>\n",
       "      <td>...</td>\n",
       "      <td>...</td>\n",
       "      <td>...</td>\n",
       "      <td>...</td>\n",
       "    </tr>\n",
       "    <tr>\n",
       "      <th>3345</th>\n",
       "      <td>104370</td>\n",
       "      <td>e96cd0bcab7c4dfbb6b9294f17afc577</td>\n",
       "      <td>clear</td>\n",
       "      <td>clear</td>\n",
       "      <td>2017-09-19 20:43:47</td>\n",
       "      <td>clear</td>\n",
       "      <td>clear</td>\n",
       "      <td>{}</td>\n",
       "      <td>cad8b8deac2340f283f1ccd0b1920462</td>\n",
       "    </tr>\n",
       "    <tr>\n",
       "      <th>5439</th>\n",
       "      <td>169023</td>\n",
       "      <td>edc77146e73c48be994bf45036a8c48c</td>\n",
       "      <td>consider</td>\n",
       "      <td>NaN</td>\n",
       "      <td>2017-07-17 13:39:47</td>\n",
       "      <td>consider</td>\n",
       "      <td>clear</td>\n",
       "      <td>{}</td>\n",
       "      <td>59aff42d707148d4a72560a066ef86e4</td>\n",
       "    </tr>\n",
       "    <tr>\n",
       "      <th>5437</th>\n",
       "      <td>169000</td>\n",
       "      <td>edc77146e73c48be994bf45036a8c48c</td>\n",
       "      <td>consider</td>\n",
       "      <td>NaN</td>\n",
       "      <td>2017-07-17 13:26:25</td>\n",
       "      <td>consider</td>\n",
       "      <td>clear</td>\n",
       "      <td>{}</td>\n",
       "      <td>6e09c41e3f154dc4b0ad69be95fc2ded</td>\n",
       "    </tr>\n",
       "    <tr>\n",
       "      <th>5334</th>\n",
       "      <td>165796</td>\n",
       "      <td>f218379dd76b4058958450cb9aaea143</td>\n",
       "      <td>clear</td>\n",
       "      <td>clear</td>\n",
       "      <td>2017-07-20 18:46:48</td>\n",
       "      <td>clear</td>\n",
       "      <td>clear</td>\n",
       "      <td>{}</td>\n",
       "      <td>0ea08f1b57cc41558018fcef539b638b</td>\n",
       "    </tr>\n",
       "    <tr>\n",
       "      <th>5344</th>\n",
       "      <td>166044</td>\n",
       "      <td>f218379dd76b4058958450cb9aaea143</td>\n",
       "      <td>clear</td>\n",
       "      <td>clear</td>\n",
       "      <td>2017-07-20 15:39:32</td>\n",
       "      <td>clear</td>\n",
       "      <td>consider</td>\n",
       "      <td>{}</td>\n",
       "      <td>e33e9fc3588d43a8aa22ef91a5e56da7</td>\n",
       "    </tr>\n",
       "  </tbody>\n",
       "</table>\n",
       "<p>64 rows × 9 columns</p>\n",
       "</div>"
      ],
      "text/plain": [
       "      Unnamed: 0                           user_id    result  \\\n",
       "2879       88935  0a743f7f87884a51bd8c165e0d3e70ed     clear   \n",
       "2874       88899  0a743f7f87884a51bd8c165e0d3e70ed  consider   \n",
       "3334      104039  0b3fe48a14554fa687e5152a1c20d768     clear   \n",
       "3350      104674  0b3fe48a14554fa687e5152a1c20d768     clear   \n",
       "4087      127521  0b677d16a072467eb95dd396e25840d9     clear   \n",
       "...          ...                               ...       ...   \n",
       "3345      104370  e96cd0bcab7c4dfbb6b9294f17afc577     clear   \n",
       "5439      169023  edc77146e73c48be994bf45036a8c48c  consider   \n",
       "5437      169000  edc77146e73c48be994bf45036a8c48c  consider   \n",
       "5334      165796  f218379dd76b4058958450cb9aaea143     clear   \n",
       "5344      166044  f218379dd76b4058958450cb9aaea143     clear   \n",
       "\n",
       "     face_comparison_result          created_at facial_image_integrity_result  \\\n",
       "2879                  clear 2017-09-30 10:06:15                         clear   \n",
       "2874                    NaN 2017-09-30 09:55:07                      consider   \n",
       "3334                  clear 2017-09-19 17:58:58                         clear   \n",
       "3350                  clear 2017-09-19 17:39:43                         clear   \n",
       "4087                  clear 2017-08-31 22:38:25                         clear   \n",
       "...                     ...                 ...                           ...   \n",
       "3345                  clear 2017-09-19 20:43:47                         clear   \n",
       "5439                    NaN 2017-07-17 13:39:47                      consider   \n",
       "5437                    NaN 2017-07-17 13:26:25                      consider   \n",
       "5334                  clear 2017-07-20 18:46:48                         clear   \n",
       "5344                  clear 2017-07-20 15:39:32                         clear   \n",
       "\n",
       "     visual_authenticity_result properties                        attempt_id  \n",
       "2879                        NaN         {}  7477c4c591d747abb6103941afdf5dfb  \n",
       "2874                        NaN         {}  98959d065b7d4d30af6785533a256eaa  \n",
       "3334                      clear         {}  5d02c7f7ad30435caeb88a0563393059  \n",
       "3350                      clear         {}  b6cd0902fdd74e72a0263781551cb8b7  \n",
       "4087                      clear         {}  344fecf0bcbc42e3a8bd92bc469e1ddd  \n",
       "...                         ...        ...                               ...  \n",
       "3345                      clear         {}  cad8b8deac2340f283f1ccd0b1920462  \n",
       "5439                      clear         {}  59aff42d707148d4a72560a066ef86e4  \n",
       "5437                      clear         {}  6e09c41e3f154dc4b0ad69be95fc2ded  \n",
       "5334                      clear         {}  0ea08f1b57cc41558018fcef539b638b  \n",
       "5344                   consider         {}  e33e9fc3588d43a8aa22ef91a5e56da7  \n",
       "\n",
       "[64 rows x 9 columns]"
      ]
     },
     "execution_count": 82,
     "metadata": {},
     "output_type": "execute_result"
    }
   ],
   "source": [
    "second_attempts_face = faces[faces.duplicated([\"user_id\"],keep=False)]\n",
    "second_attempts_face.sort_values(by='user_id')"
   ]
  },
  {
   "cell_type": "code",
   "execution_count": 81,
   "metadata": {},
   "outputs": [
    {
     "data": {
      "text/html": [
       "<div>\n",
       "<style scoped>\n",
       "    .dataframe tbody tr th:only-of-type {\n",
       "        vertical-align: middle;\n",
       "    }\n",
       "\n",
       "    .dataframe tbody tr th {\n",
       "        vertical-align: top;\n",
       "    }\n",
       "\n",
       "    .dataframe thead th {\n",
       "        text-align: right;\n",
       "    }\n",
       "</style>\n",
       "<table border=\"1\" class=\"dataframe\">\n",
       "  <thead>\n",
       "    <tr style=\"text-align: right;\">\n",
       "      <th></th>\n",
       "      <th>Unnamed: 0</th>\n",
       "      <th>user_id</th>\n",
       "      <th>result</th>\n",
       "      <th>visual_authenticity_result</th>\n",
       "      <th>image_integrity_result</th>\n",
       "      <th>face_detection_result</th>\n",
       "      <th>image_quality_result</th>\n",
       "      <th>created_at</th>\n",
       "      <th>supported_document_result</th>\n",
       "      <th>conclusive_document_quality_result</th>\n",
       "      <th>colour_picture_result</th>\n",
       "      <th>data_validation_result</th>\n",
       "      <th>data_consistency_result</th>\n",
       "      <th>data_comparison_result</th>\n",
       "      <th>attempt_id</th>\n",
       "      <th>police_record_result</th>\n",
       "      <th>compromised_document_result</th>\n",
       "      <th>properties</th>\n",
       "      <th>sub_result</th>\n",
       "    </tr>\n",
       "  </thead>\n",
       "  <tbody>\n",
       "    <tr>\n",
       "      <th>2989</th>\n",
       "      <td>88899</td>\n",
       "      <td>0a743f7f87884a51bd8c165e0d3e70ed</td>\n",
       "      <td>consider</td>\n",
       "      <td>NaN</td>\n",
       "      <td>consider</td>\n",
       "      <td>NaN</td>\n",
       "      <td>unidentified</td>\n",
       "      <td>2017-09-30 09:55:07</td>\n",
       "      <td>clear</td>\n",
       "      <td>NaN</td>\n",
       "      <td>NaN</td>\n",
       "      <td>NaN</td>\n",
       "      <td>NaN</td>\n",
       "      <td>NaN</td>\n",
       "      <td>98959d065b7d4d30af6785533a256eaa</td>\n",
       "      <td>NaN</td>\n",
       "      <td>NaN</td>\n",
       "      <td>{}</td>\n",
       "      <td>rejected</td>\n",
       "    </tr>\n",
       "    <tr>\n",
       "      <th>3755</th>\n",
       "      <td>88935</td>\n",
       "      <td>0a743f7f87884a51bd8c165e0d3e70ed</td>\n",
       "      <td>consider</td>\n",
       "      <td>NaN</td>\n",
       "      <td>consider</td>\n",
       "      <td>NaN</td>\n",
       "      <td>unidentified</td>\n",
       "      <td>2017-09-30 10:06:16</td>\n",
       "      <td>clear</td>\n",
       "      <td>NaN</td>\n",
       "      <td>NaN</td>\n",
       "      <td>NaN</td>\n",
       "      <td>NaN</td>\n",
       "      <td>NaN</td>\n",
       "      <td>7477c4c591d747abb6103941afdf5dfb</td>\n",
       "      <td>NaN</td>\n",
       "      <td>NaN</td>\n",
       "      <td>{}</td>\n",
       "      <td>rejected</td>\n",
       "    </tr>\n",
       "    <tr>\n",
       "      <th>3367</th>\n",
       "      <td>104039</td>\n",
       "      <td>0b3fe48a14554fa687e5152a1c20d768</td>\n",
       "      <td>clear</td>\n",
       "      <td>clear</td>\n",
       "      <td>clear</td>\n",
       "      <td>clear</td>\n",
       "      <td>clear</td>\n",
       "      <td>2017-09-19 17:58:58</td>\n",
       "      <td>clear</td>\n",
       "      <td>clear</td>\n",
       "      <td>clear</td>\n",
       "      <td>clear</td>\n",
       "      <td>clear</td>\n",
       "      <td>NaN</td>\n",
       "      <td>5d02c7f7ad30435caeb88a0563393059</td>\n",
       "      <td>clear</td>\n",
       "      <td>NaN</td>\n",
       "      <td>{'gender': 'Male', 'nationality': 'BEL', 'docu...</td>\n",
       "      <td>clear</td>\n",
       "    </tr>\n",
       "    <tr>\n",
       "      <th>2914</th>\n",
       "      <td>104674</td>\n",
       "      <td>0b3fe48a14554fa687e5152a1c20d768</td>\n",
       "      <td>clear</td>\n",
       "      <td>clear</td>\n",
       "      <td>clear</td>\n",
       "      <td>clear</td>\n",
       "      <td>clear</td>\n",
       "      <td>2017-09-19 17:39:42</td>\n",
       "      <td>clear</td>\n",
       "      <td>clear</td>\n",
       "      <td>clear</td>\n",
       "      <td>clear</td>\n",
       "      <td>clear</td>\n",
       "      <td>NaN</td>\n",
       "      <td>b6cd0902fdd74e72a0263781551cb8b7</td>\n",
       "      <td>clear</td>\n",
       "      <td>NaN</td>\n",
       "      <td>{'gender': 'Male', 'nationality': 'BEL', 'docu...</td>\n",
       "      <td>clear</td>\n",
       "    </tr>\n",
       "    <tr>\n",
       "      <th>1588</th>\n",
       "      <td>127513</td>\n",
       "      <td>0b677d16a072467eb95dd396e25840d9</td>\n",
       "      <td>consider</td>\n",
       "      <td>NaN</td>\n",
       "      <td>consider</td>\n",
       "      <td>NaN</td>\n",
       "      <td>unidentified</td>\n",
       "      <td>2017-08-31 22:30:14</td>\n",
       "      <td>clear</td>\n",
       "      <td>NaN</td>\n",
       "      <td>NaN</td>\n",
       "      <td>NaN</td>\n",
       "      <td>NaN</td>\n",
       "      <td>NaN</td>\n",
       "      <td>7bd292b207c34f569082c1ff87963619</td>\n",
       "      <td>NaN</td>\n",
       "      <td>NaN</td>\n",
       "      <td>{}</td>\n",
       "      <td>rejected</td>\n",
       "    </tr>\n",
       "    <tr>\n",
       "      <th>...</th>\n",
       "      <td>...</td>\n",
       "      <td>...</td>\n",
       "      <td>...</td>\n",
       "      <td>...</td>\n",
       "      <td>...</td>\n",
       "      <td>...</td>\n",
       "      <td>...</td>\n",
       "      <td>...</td>\n",
       "      <td>...</td>\n",
       "      <td>...</td>\n",
       "      <td>...</td>\n",
       "      <td>...</td>\n",
       "      <td>...</td>\n",
       "      <td>...</td>\n",
       "      <td>...</td>\n",
       "      <td>...</td>\n",
       "      <td>...</td>\n",
       "      <td>...</td>\n",
       "      <td>...</td>\n",
       "    </tr>\n",
       "    <tr>\n",
       "      <th>3853</th>\n",
       "      <td>104344</td>\n",
       "      <td>e96cd0bcab7c4dfbb6b9294f17afc577</td>\n",
       "      <td>consider</td>\n",
       "      <td>clear</td>\n",
       "      <td>consider</td>\n",
       "      <td>clear</td>\n",
       "      <td>clear</td>\n",
       "      <td>2017-09-19 20:27:06</td>\n",
       "      <td>clear</td>\n",
       "      <td>consider</td>\n",
       "      <td>clear</td>\n",
       "      <td>clear</td>\n",
       "      <td>clear</td>\n",
       "      <td>NaN</td>\n",
       "      <td>12005624a55c40bf8e3cf72309d907db</td>\n",
       "      <td>clear</td>\n",
       "      <td>NaN</td>\n",
       "      <td>{'gender': 'Female', 'nationality': 'ESP', 'do...</td>\n",
       "      <td>caution</td>\n",
       "    </tr>\n",
       "    <tr>\n",
       "      <th>700</th>\n",
       "      <td>169000</td>\n",
       "      <td>edc77146e73c48be994bf45036a8c48c</td>\n",
       "      <td>clear</td>\n",
       "      <td>clear</td>\n",
       "      <td>clear</td>\n",
       "      <td>clear</td>\n",
       "      <td>clear</td>\n",
       "      <td>2017-07-17 13:26:25</td>\n",
       "      <td>clear</td>\n",
       "      <td>NaN</td>\n",
       "      <td>NaN</td>\n",
       "      <td>NaN</td>\n",
       "      <td>NaN</td>\n",
       "      <td>NaN</td>\n",
       "      <td>6e09c41e3f154dc4b0ad69be95fc2ded</td>\n",
       "      <td>clear</td>\n",
       "      <td>NaN</td>\n",
       "      <td>{'document_type': 'driving_licence', 'issuing_...</td>\n",
       "      <td>clear</td>\n",
       "    </tr>\n",
       "    <tr>\n",
       "      <th>1266</th>\n",
       "      <td>169023</td>\n",
       "      <td>edc77146e73c48be994bf45036a8c48c</td>\n",
       "      <td>clear</td>\n",
       "      <td>clear</td>\n",
       "      <td>clear</td>\n",
       "      <td>clear</td>\n",
       "      <td>clear</td>\n",
       "      <td>2017-07-17 13:39:47</td>\n",
       "      <td>clear</td>\n",
       "      <td>NaN</td>\n",
       "      <td>NaN</td>\n",
       "      <td>clear</td>\n",
       "      <td>clear</td>\n",
       "      <td>NaN</td>\n",
       "      <td>59aff42d707148d4a72560a066ef86e4</td>\n",
       "      <td>clear</td>\n",
       "      <td>NaN</td>\n",
       "      <td>{'gender': 'Male', 'nationality': 'PRT', 'docu...</td>\n",
       "      <td>clear</td>\n",
       "    </tr>\n",
       "    <tr>\n",
       "      <th>780</th>\n",
       "      <td>166044</td>\n",
       "      <td>f218379dd76b4058958450cb9aaea143</td>\n",
       "      <td>consider</td>\n",
       "      <td>consider</td>\n",
       "      <td>clear</td>\n",
       "      <td>clear</td>\n",
       "      <td>clear</td>\n",
       "      <td>2017-07-20 15:39:32</td>\n",
       "      <td>clear</td>\n",
       "      <td>NaN</td>\n",
       "      <td>NaN</td>\n",
       "      <td>clear</td>\n",
       "      <td>clear</td>\n",
       "      <td>NaN</td>\n",
       "      <td>e33e9fc3588d43a8aa22ef91a5e56da7</td>\n",
       "      <td>clear</td>\n",
       "      <td>NaN</td>\n",
       "      <td>{'gender': 'Male', 'nationality': 'DNK', 'docu...</td>\n",
       "      <td>caution</td>\n",
       "    </tr>\n",
       "    <tr>\n",
       "      <th>1406</th>\n",
       "      <td>165796</td>\n",
       "      <td>f218379dd76b4058958450cb9aaea143</td>\n",
       "      <td>clear</td>\n",
       "      <td>clear</td>\n",
       "      <td>clear</td>\n",
       "      <td>clear</td>\n",
       "      <td>clear</td>\n",
       "      <td>2017-07-20 18:46:48</td>\n",
       "      <td>clear</td>\n",
       "      <td>NaN</td>\n",
       "      <td>NaN</td>\n",
       "      <td>clear</td>\n",
       "      <td>clear</td>\n",
       "      <td>NaN</td>\n",
       "      <td>0ea08f1b57cc41558018fcef539b638b</td>\n",
       "      <td>clear</td>\n",
       "      <td>NaN</td>\n",
       "      <td>{'gender': 'Male', 'nationality': 'DNK', 'docu...</td>\n",
       "      <td>clear</td>\n",
       "    </tr>\n",
       "  </tbody>\n",
       "</table>\n",
       "<p>64 rows × 19 columns</p>\n",
       "</div>"
      ],
      "text/plain": [
       "      Unnamed: 0                           user_id    result  \\\n",
       "2989       88899  0a743f7f87884a51bd8c165e0d3e70ed  consider   \n",
       "3755       88935  0a743f7f87884a51bd8c165e0d3e70ed  consider   \n",
       "3367      104039  0b3fe48a14554fa687e5152a1c20d768     clear   \n",
       "2914      104674  0b3fe48a14554fa687e5152a1c20d768     clear   \n",
       "1588      127513  0b677d16a072467eb95dd396e25840d9  consider   \n",
       "...          ...                               ...       ...   \n",
       "3853      104344  e96cd0bcab7c4dfbb6b9294f17afc577  consider   \n",
       "700       169000  edc77146e73c48be994bf45036a8c48c     clear   \n",
       "1266      169023  edc77146e73c48be994bf45036a8c48c     clear   \n",
       "780       166044  f218379dd76b4058958450cb9aaea143  consider   \n",
       "1406      165796  f218379dd76b4058958450cb9aaea143     clear   \n",
       "\n",
       "     visual_authenticity_result image_integrity_result face_detection_result  \\\n",
       "2989                        NaN               consider                   NaN   \n",
       "3755                        NaN               consider                   NaN   \n",
       "3367                      clear                  clear                 clear   \n",
       "2914                      clear                  clear                 clear   \n",
       "1588                        NaN               consider                   NaN   \n",
       "...                         ...                    ...                   ...   \n",
       "3853                      clear               consider                 clear   \n",
       "700                       clear                  clear                 clear   \n",
       "1266                      clear                  clear                 clear   \n",
       "780                    consider                  clear                 clear   \n",
       "1406                      clear                  clear                 clear   \n",
       "\n",
       "     image_quality_result          created_at supported_document_result  \\\n",
       "2989         unidentified 2017-09-30 09:55:07                     clear   \n",
       "3755         unidentified 2017-09-30 10:06:16                     clear   \n",
       "3367                clear 2017-09-19 17:58:58                     clear   \n",
       "2914                clear 2017-09-19 17:39:42                     clear   \n",
       "1588         unidentified 2017-08-31 22:30:14                     clear   \n",
       "...                   ...                 ...                       ...   \n",
       "3853                clear 2017-09-19 20:27:06                     clear   \n",
       "700                 clear 2017-07-17 13:26:25                     clear   \n",
       "1266                clear 2017-07-17 13:39:47                     clear   \n",
       "780                 clear 2017-07-20 15:39:32                     clear   \n",
       "1406                clear 2017-07-20 18:46:48                     clear   \n",
       "\n",
       "     conclusive_document_quality_result colour_picture_result  \\\n",
       "2989                                NaN                   NaN   \n",
       "3755                                NaN                   NaN   \n",
       "3367                              clear                 clear   \n",
       "2914                              clear                 clear   \n",
       "1588                                NaN                   NaN   \n",
       "...                                 ...                   ...   \n",
       "3853                           consider                 clear   \n",
       "700                                 NaN                   NaN   \n",
       "1266                                NaN                   NaN   \n",
       "780                                 NaN                   NaN   \n",
       "1406                                NaN                   NaN   \n",
       "\n",
       "     data_validation_result data_consistency_result data_comparison_result  \\\n",
       "2989                    NaN                     NaN                    NaN   \n",
       "3755                    NaN                     NaN                    NaN   \n",
       "3367                  clear                   clear                    NaN   \n",
       "2914                  clear                   clear                    NaN   \n",
       "1588                    NaN                     NaN                    NaN   \n",
       "...                     ...                     ...                    ...   \n",
       "3853                  clear                   clear                    NaN   \n",
       "700                     NaN                     NaN                    NaN   \n",
       "1266                  clear                   clear                    NaN   \n",
       "780                   clear                   clear                    NaN   \n",
       "1406                  clear                   clear                    NaN   \n",
       "\n",
       "                            attempt_id police_record_result  \\\n",
       "2989  98959d065b7d4d30af6785533a256eaa                  NaN   \n",
       "3755  7477c4c591d747abb6103941afdf5dfb                  NaN   \n",
       "3367  5d02c7f7ad30435caeb88a0563393059                clear   \n",
       "2914  b6cd0902fdd74e72a0263781551cb8b7                clear   \n",
       "1588  7bd292b207c34f569082c1ff87963619                  NaN   \n",
       "...                                ...                  ...   \n",
       "3853  12005624a55c40bf8e3cf72309d907db                clear   \n",
       "700   6e09c41e3f154dc4b0ad69be95fc2ded                clear   \n",
       "1266  59aff42d707148d4a72560a066ef86e4                clear   \n",
       "780   e33e9fc3588d43a8aa22ef91a5e56da7                clear   \n",
       "1406  0ea08f1b57cc41558018fcef539b638b                clear   \n",
       "\n",
       "     compromised_document_result  \\\n",
       "2989                         NaN   \n",
       "3755                         NaN   \n",
       "3367                         NaN   \n",
       "2914                         NaN   \n",
       "1588                         NaN   \n",
       "...                          ...   \n",
       "3853                         NaN   \n",
       "700                          NaN   \n",
       "1266                         NaN   \n",
       "780                          NaN   \n",
       "1406                         NaN   \n",
       "\n",
       "                                             properties sub_result  \n",
       "2989                                                 {}   rejected  \n",
       "3755                                                 {}   rejected  \n",
       "3367  {'gender': 'Male', 'nationality': 'BEL', 'docu...      clear  \n",
       "2914  {'gender': 'Male', 'nationality': 'BEL', 'docu...      clear  \n",
       "1588                                                 {}   rejected  \n",
       "...                                                 ...        ...  \n",
       "3853  {'gender': 'Female', 'nationality': 'ESP', 'do...    caution  \n",
       "700   {'document_type': 'driving_licence', 'issuing_...      clear  \n",
       "1266  {'gender': 'Male', 'nationality': 'PRT', 'docu...      clear  \n",
       "780   {'gender': 'Male', 'nationality': 'DNK', 'docu...    caution  \n",
       "1406  {'gender': 'Male', 'nationality': 'DNK', 'docu...      clear  \n",
       "\n",
       "[64 rows x 19 columns]"
      ]
     },
     "execution_count": 81,
     "metadata": {},
     "output_type": "execute_result"
    }
   ],
   "source": [
    "second_attempts_document = documents[documents.duplicated([\"user_id\"],keep=False)]\n",
    "second_attempts_document.sort_values(by='user_id')"
   ]
  },
  {
   "cell_type": "markdown",
   "metadata": {},
   "source": [
    "## High Level Overall Analysis \n",
    "A selection of high level queries that show overall trends in the data"
   ]
  },
  {
   "cell_type": "code",
   "execution_count": 12,
   "metadata": {},
   "outputs": [
    {
     "data": {
      "text/plain": [
       "1474"
      ]
     },
     "execution_count": 12,
     "metadata": {},
     "output_type": "execute_result"
    }
   ],
   "source": [
    "# Number of failed document checks for \"consider\", (significantly higher than the failed failure check)\n",
    "document_failures[\"result\"].count()"
   ]
  },
  {
   "cell_type": "code",
   "execution_count": 7,
   "metadata": {},
   "outputs": [
    {
     "data": {
      "text/plain": [
       "4406"
      ]
     },
     "execution_count": 7,
     "metadata": {},
     "output_type": "execute_result"
    }
   ],
   "source": [
    "# Successful document checks\n",
    "document_success = documents[documents[\"result\"]==\"clear\"]\n",
    "document_success[\"result\"].count()"
   ]
  },
  {
   "cell_type": "code",
   "execution_count": 14,
   "metadata": {},
   "outputs": [
    {
     "data": {
      "text/plain": [
       "367"
      ]
     },
     "execution_count": 14,
     "metadata": {},
     "output_type": "execute_result"
    }
   ],
   "source": [
    "# Number of failed faces checks, (significantly lower than the failed documents check) \n",
    "faces_failures[\"result\"].count()"
   ]
  },
  {
   "cell_type": "code",
   "execution_count": 8,
   "metadata": {},
   "outputs": [
    {
     "data": {
      "text/plain": [
       "5513"
      ]
     },
     "execution_count": 8,
     "metadata": {},
     "output_type": "execute_result"
    }
   ],
   "source": [
    "# Successful face checks\n",
    "faces_success = faces[faces[\"result\"]==\"clear\"]\n",
    "faces_success[\"result\"].count()"
   ]
  },
  {
   "cell_type": "code",
   "execution_count": 15,
   "metadata": {},
   "outputs": [
    {
     "data": {
      "text/plain": [
       "74.93197278911565"
      ]
     },
     "execution_count": 15,
     "metadata": {},
     "output_type": "execute_result"
    }
   ],
   "source": [
    "# Pass rate: Documents\n",
    "document_pass_rate = document_success[\"result\"].count()/documents[\"result\"].count()*100\n",
    "document_pass_rate"
   ]
  },
  {
   "cell_type": "code",
   "execution_count": 16,
   "metadata": {},
   "outputs": [
    {
     "data": {
      "text/plain": [
       "93.75850340136054"
      ]
     },
     "execution_count": 16,
     "metadata": {},
     "output_type": "execute_result"
    }
   ],
   "source": [
    "# Pass Rate: Faces\n",
    "faces_pass_rate = faces_success[\"result\"].count()/faces[\"result\"].count()*100\n",
    "faces_pass_rate"
   ]
  },
  {
   "cell_type": "code",
   "execution_count": 22,
   "metadata": {},
   "outputs": [
    {
     "data": {
      "text/plain": [
       "<pandas.core.groupby.generic.DataFrameGroupBy object at 0x7fd1b2a09f70>"
      ]
     },
     "execution_count": 22,
     "metadata": {},
     "output_type": "execute_result"
    }
   ],
   "source": [
    "documents.groupby(\"created_at\")"
   ]
  },
  {
   "cell_type": "code",
   "execution_count": 24,
   "metadata": {},
   "outputs": [
    {
     "data": {
      "text/plain": [
       "created_at\n",
       "2017-05-23 17:25:05       clear\n",
       "2017-05-23 19:17:47       clear\n",
       "2017-05-23 20:49:06       clear\n",
       "2017-05-24 07:47:43    consider\n",
       "2017-05-24 11:38:14       clear\n",
       "                         ...   \n",
       "2017-10-31 21:06:56    consider\n",
       "2017-10-31 21:10:20    consider\n",
       "2017-10-31 21:11:50       clear\n",
       "2017-10-31 21:46:05       clear\n",
       "2017-10-31 22:06:10       clear\n",
       "Name: result, Length: 5874, dtype: object"
      ]
     },
     "execution_count": 24,
     "metadata": {},
     "output_type": "execute_result"
    }
   ],
   "source": [
    "documents.groupby(\"created_at\")[\"result\"].()"
   ]
  },
  {
   "cell_type": "code",
   "execution_count": null,
   "metadata": {},
   "outputs": [],
   "source": [
    "# Analysis of properties for failed rates"
   ]
  }
 ],
 "metadata": {
  "kernelspec": {
   "display_name": "Python 3",
   "language": "python",
   "name": "python3"
  },
  "language_info": {
   "codemirror_mode": {
    "name": "ipython",
    "version": 3
   },
   "file_extension": ".py",
   "mimetype": "text/x-python",
   "name": "python",
   "nbconvert_exporter": "python",
   "pygments_lexer": "ipython3",
   "version": "3.8.5"
  }
 },
 "nbformat": 4,
 "nbformat_minor": 4
}
