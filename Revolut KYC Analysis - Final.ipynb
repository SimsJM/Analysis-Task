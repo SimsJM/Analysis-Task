{
 "cells": [
  {
   "cell_type": "markdown",
   "metadata": {},
   "source": [
    "# Jamie Sims - Revolut Analysis Task\n",
    "\n",
    "The following is the data analysis conducted to support my final presentation. \n",
    "\n",
    "**S**ituation: The passrate has decreaesed significnatly in the recent period <br>\n",
    "**T**ask: To write a report that identifies <br> - root causes for this drop in success rate <br> - suggested solutions \n",
    "\n",
    "### Definitions\n",
    "\n",
    "- **Recent Period**: Need to define recent period <br>\n",
    "- **Pass Rate**: number of succesful KYC checks (Success) / number of attempts (attempts)"
   ]
  },
  {
   "cell_type": "code",
   "execution_count": 5,
   "metadata": {},
   "outputs": [],
   "source": [
    "import pandas as pd\n",
    "\n",
    "docs_report_file = 'doc_reports_sample.csv'\n",
    "faces_report_file = 'face_reports_sample.csv'\n",
    "\n",
    "documents = pd.read_csv(docs_report_file, parse_dates=[\"created_at\"])\n",
    "faces = pd.read_csv(faces_report_file, parse_dates=[\"created_at\"])"
   ]
  },
  {
   "cell_type": "markdown",
   "metadata": {},
   "source": [
    "Variables to be used in calculations defined below:"
   ]
  },
  {
   "cell_type": "code",
   "execution_count": 6,
   "metadata": {},
   "outputs": [],
   "source": [
    "unique_users = documents[\"user_id\"].nunique()\n",
    "document_failures = documents[documents[\"result\"]!=\"clear\"]\n",
    "faces_failures = faces[faces[\"result\"]!=\"clear\"]"
   ]
  },
  {
   "cell_type": "markdown",
   "metadata": {},
   "source": [
    "## High Level Overall Analysis \n",
    "A selection of high level queries that show overall trends in the data"
   ]
  },
  {
   "cell_type": "code",
   "execution_count": 7,
   "metadata": {},
   "outputs": [
    {
     "data": {
      "text/plain": [
       "1474"
      ]
     },
     "execution_count": 7,
     "metadata": {},
     "output_type": "execute_result"
    }
   ],
   "source": [
    "# Number of failed document checks for \"consider\", (significantly higher than the faces failure check)\n",
    "document_failures[\"result\"].count()"
   ]
  },
  {
   "cell_type": "code",
   "execution_count": 28,
   "metadata": {},
   "outputs": [
    {
     "data": {
      "text/plain": [
       "4406"
      ]
     },
     "execution_count": 28,
     "metadata": {},
     "output_type": "execute_result"
    }
   ],
   "source": [
    "# Successful document checks\n",
    "document_success = documents[documents[\"result\"]==\"clear\"]\n",
    "document_success[\"result\"].count()"
   ]
  },
  {
   "cell_type": "code",
   "execution_count": 29,
   "metadata": {},
   "outputs": [
    {
     "data": {
      "text/plain": [
       "367"
      ]
     },
     "execution_count": 29,
     "metadata": {},
     "output_type": "execute_result"
    }
   ],
   "source": [
    "# Number of failed faces checks, (significantly lower than the failed documents check) \n",
    "faces_failures[\"result\"].count()"
   ]
  },
  {
   "cell_type": "code",
   "execution_count": 30,
   "metadata": {},
   "outputs": [
    {
     "data": {
      "text/plain": [
       "5513"
      ]
     },
     "execution_count": 30,
     "metadata": {},
     "output_type": "execute_result"
    }
   ],
   "source": [
    "# Successful face checks\n",
    "faces_success = faces[faces[\"result\"]==\"clear\"]\n",
    "faces_success[\"result\"].count()"
   ]
  },
  {
   "cell_type": "code",
   "execution_count": 31,
   "metadata": {},
   "outputs": [
    {
     "data": {
      "text/plain": [
       "74.93197278911565"
      ]
     },
     "execution_count": 31,
     "metadata": {},
     "output_type": "execute_result"
    }
   ],
   "source": [
    "# Pass rate: Documents\n",
    "document_pass_rate = document_success[\"result\"].count()/documents[\"result\"].count()*100\n",
    "document_pass_rate"
   ]
  },
  {
   "cell_type": "code",
   "execution_count": 32,
   "metadata": {},
   "outputs": [
    {
     "data": {
      "text/plain": [
       "93.75850340136054"
      ]
     },
     "execution_count": 32,
     "metadata": {},
     "output_type": "execute_result"
    }
   ],
   "source": [
    "# Pass Rate: Faces\n",
    "faces_pass_rate = faces_success[\"result\"].count()/faces[\"result\"].count()*100\n",
    "faces_pass_rate"
   ]
  },
  {
   "cell_type": "markdown",
   "metadata": {},
   "source": [
    "## Analysis of the Document Upload Failures"
   ]
  },
  {
   "cell_type": "code",
   "execution_count": 33,
   "metadata": {
    "scrolled": true
   },
   "outputs": [
    {
     "data": {
      "text/html": [
       "<div>\n",
       "<style scoped>\n",
       "    .dataframe tbody tr th:only-of-type {\n",
       "        vertical-align: middle;\n",
       "    }\n",
       "\n",
       "    .dataframe tbody tr th {\n",
       "        vertical-align: top;\n",
       "    }\n",
       "\n",
       "    .dataframe thead th {\n",
       "        text-align: right;\n",
       "    }\n",
       "</style>\n",
       "<table border=\"1\" class=\"dataframe\">\n",
       "  <thead>\n",
       "    <tr style=\"text-align: right;\">\n",
       "      <th></th>\n",
       "      <th>Unnamed: 0</th>\n",
       "      <th>user_id</th>\n",
       "      <th>result</th>\n",
       "      <th>visual_authenticity_result</th>\n",
       "      <th>image_integrity_result</th>\n",
       "      <th>face_detection_result</th>\n",
       "      <th>image_quality_result</th>\n",
       "      <th>created_at</th>\n",
       "      <th>supported_document_result</th>\n",
       "      <th>conclusive_document_quality_result</th>\n",
       "      <th>colour_picture_result</th>\n",
       "      <th>data_validation_result</th>\n",
       "      <th>data_consistency_result</th>\n",
       "      <th>data_comparison_result</th>\n",
       "      <th>attempt_id</th>\n",
       "      <th>police_record_result</th>\n",
       "      <th>compromised_document_result</th>\n",
       "      <th>properties</th>\n",
       "      <th>sub_result</th>\n",
       "    </tr>\n",
       "  </thead>\n",
       "  <tbody>\n",
       "    <tr>\n",
       "      <th>0</th>\n",
       "      <td>27241</td>\n",
       "      <td>8190909e566647a5b6afeee9b4ec6c6a</td>\n",
       "      <td>clear</td>\n",
       "      <td>clear</td>\n",
       "      <td>clear</td>\n",
       "      <td>clear</td>\n",
       "      <td>clear</td>\n",
       "      <td>2017-05-25 08:38:56</td>\n",
       "      <td>clear</td>\n",
       "      <td>NaN</td>\n",
       "      <td>NaN</td>\n",
       "      <td>clear</td>\n",
       "      <td>NaN</td>\n",
       "      <td>clear</td>\n",
       "      <td>30e11e95e30748f485a2271ca5e6abb8</td>\n",
       "      <td>clear</td>\n",
       "      <td>NaN</td>\n",
       "      <td>{'gender': 'Female', 'document_type': 'driving...</td>\n",
       "      <td>clear</td>\n",
       "    </tr>\n",
       "  </tbody>\n",
       "</table>\n",
       "</div>"
      ],
      "text/plain": [
       "   Unnamed: 0                           user_id result  \\\n",
       "0       27241  8190909e566647a5b6afeee9b4ec6c6a  clear   \n",
       "\n",
       "  visual_authenticity_result image_integrity_result face_detection_result  \\\n",
       "0                      clear                  clear                 clear   \n",
       "\n",
       "  image_quality_result          created_at supported_document_result  \\\n",
       "0                clear 2017-05-25 08:38:56                     clear   \n",
       "\n",
       "  conclusive_document_quality_result colour_picture_result  \\\n",
       "0                                NaN                   NaN   \n",
       "\n",
       "  data_validation_result data_consistency_result data_comparison_result  \\\n",
       "0                  clear                     NaN                  clear   \n",
       "\n",
       "                         attempt_id police_record_result  \\\n",
       "0  30e11e95e30748f485a2271ca5e6abb8                clear   \n",
       "\n",
       "  compromised_document_result  \\\n",
       "0                         NaN   \n",
       "\n",
       "                                          properties sub_result  \n",
       "0  {'gender': 'Female', 'document_type': 'driving...      clear  "
      ]
     },
     "execution_count": 33,
     "metadata": {},
     "output_type": "execute_result"
    }
   ],
   "source": [
    "documents.head(1)"
   ]
  },
  {
   "cell_type": "markdown",
   "metadata": {},
   "source": [
    "### Retry Analysis"
   ]
  },
  {
   "cell_type": "code",
   "execution_count": 11,
   "metadata": {},
   "outputs": [
    {
     "data": {
      "text/plain": [
       "32"
      ]
     },
     "execution_count": 11,
     "metadata": {},
     "output_type": "execute_result"
    }
   ],
   "source": [
    "documents_retry = documents[documents.duplicated(subset=[\"user_id\"])]\n",
    "documents_retry[\"user_id\"].count()"
   ]
  },
  {
   "cell_type": "code",
   "execution_count": 9,
   "metadata": {},
   "outputs": [
    {
     "data": {
      "text/html": [
       "<div>\n",
       "<style scoped>\n",
       "    .dataframe tbody tr th:only-of-type {\n",
       "        vertical-align: middle;\n",
       "    }\n",
       "\n",
       "    .dataframe tbody tr th {\n",
       "        vertical-align: top;\n",
       "    }\n",
       "\n",
       "    .dataframe thead th {\n",
       "        text-align: right;\n",
       "    }\n",
       "</style>\n",
       "<table border=\"1\" class=\"dataframe\">\n",
       "  <thead>\n",
       "    <tr style=\"text-align: right;\">\n",
       "      <th></th>\n",
       "      <th>Unnamed: 0</th>\n",
       "      <th>user_id</th>\n",
       "      <th>result</th>\n",
       "      <th>visual_authenticity_result</th>\n",
       "      <th>image_integrity_result</th>\n",
       "      <th>face_detection_result</th>\n",
       "      <th>image_quality_result</th>\n",
       "      <th>created_at</th>\n",
       "      <th>supported_document_result</th>\n",
       "      <th>conclusive_document_quality_result</th>\n",
       "      <th>colour_picture_result</th>\n",
       "      <th>data_validation_result</th>\n",
       "      <th>data_consistency_result</th>\n",
       "      <th>data_comparison_result</th>\n",
       "      <th>attempt_id</th>\n",
       "      <th>police_record_result</th>\n",
       "      <th>compromised_document_result</th>\n",
       "      <th>properties</th>\n",
       "      <th>sub_result</th>\n",
       "    </tr>\n",
       "  </thead>\n",
       "  <tbody>\n",
       "    <tr>\n",
       "      <th>2989</th>\n",
       "      <td>88899</td>\n",
       "      <td>0a743f7f87884a51bd8c165e0d3e70ed</td>\n",
       "      <td>consider</td>\n",
       "      <td>NaN</td>\n",
       "      <td>consider</td>\n",
       "      <td>NaN</td>\n",
       "      <td>unidentified</td>\n",
       "      <td>2017-09-30 09:55:07</td>\n",
       "      <td>clear</td>\n",
       "      <td>NaN</td>\n",
       "      <td>NaN</td>\n",
       "      <td>NaN</td>\n",
       "      <td>NaN</td>\n",
       "      <td>NaN</td>\n",
       "      <td>98959d065b7d4d30af6785533a256eaa</td>\n",
       "      <td>NaN</td>\n",
       "      <td>NaN</td>\n",
       "      <td>{}</td>\n",
       "      <td>rejected</td>\n",
       "    </tr>\n",
       "    <tr>\n",
       "      <th>3755</th>\n",
       "      <td>88935</td>\n",
       "      <td>0a743f7f87884a51bd8c165e0d3e70ed</td>\n",
       "      <td>consider</td>\n",
       "      <td>NaN</td>\n",
       "      <td>consider</td>\n",
       "      <td>NaN</td>\n",
       "      <td>unidentified</td>\n",
       "      <td>2017-09-30 10:06:16</td>\n",
       "      <td>clear</td>\n",
       "      <td>NaN</td>\n",
       "      <td>NaN</td>\n",
       "      <td>NaN</td>\n",
       "      <td>NaN</td>\n",
       "      <td>NaN</td>\n",
       "      <td>7477c4c591d747abb6103941afdf5dfb</td>\n",
       "      <td>NaN</td>\n",
       "      <td>NaN</td>\n",
       "      <td>{}</td>\n",
       "      <td>rejected</td>\n",
       "    </tr>\n",
       "    <tr>\n",
       "      <th>2914</th>\n",
       "      <td>104674</td>\n",
       "      <td>0b3fe48a14554fa687e5152a1c20d768</td>\n",
       "      <td>clear</td>\n",
       "      <td>clear</td>\n",
       "      <td>clear</td>\n",
       "      <td>clear</td>\n",
       "      <td>clear</td>\n",
       "      <td>2017-09-19 17:39:42</td>\n",
       "      <td>clear</td>\n",
       "      <td>clear</td>\n",
       "      <td>clear</td>\n",
       "      <td>clear</td>\n",
       "      <td>clear</td>\n",
       "      <td>NaN</td>\n",
       "      <td>b6cd0902fdd74e72a0263781551cb8b7</td>\n",
       "      <td>clear</td>\n",
       "      <td>NaN</td>\n",
       "      <td>{'gender': 'Male', 'nationality': 'BEL', 'docu...</td>\n",
       "      <td>clear</td>\n",
       "    </tr>\n",
       "    <tr>\n",
       "      <th>3367</th>\n",
       "      <td>104039</td>\n",
       "      <td>0b3fe48a14554fa687e5152a1c20d768</td>\n",
       "      <td>clear</td>\n",
       "      <td>clear</td>\n",
       "      <td>clear</td>\n",
       "      <td>clear</td>\n",
       "      <td>clear</td>\n",
       "      <td>2017-09-19 17:58:58</td>\n",
       "      <td>clear</td>\n",
       "      <td>clear</td>\n",
       "      <td>clear</td>\n",
       "      <td>clear</td>\n",
       "      <td>clear</td>\n",
       "      <td>NaN</td>\n",
       "      <td>5d02c7f7ad30435caeb88a0563393059</td>\n",
       "      <td>clear</td>\n",
       "      <td>NaN</td>\n",
       "      <td>{'gender': 'Male', 'nationality': 'BEL', 'docu...</td>\n",
       "      <td>clear</td>\n",
       "    </tr>\n",
       "    <tr>\n",
       "      <th>1588</th>\n",
       "      <td>127513</td>\n",
       "      <td>0b677d16a072467eb95dd396e25840d9</td>\n",
       "      <td>consider</td>\n",
       "      <td>NaN</td>\n",
       "      <td>consider</td>\n",
       "      <td>NaN</td>\n",
       "      <td>unidentified</td>\n",
       "      <td>2017-08-31 22:30:14</td>\n",
       "      <td>clear</td>\n",
       "      <td>NaN</td>\n",
       "      <td>NaN</td>\n",
       "      <td>NaN</td>\n",
       "      <td>NaN</td>\n",
       "      <td>NaN</td>\n",
       "      <td>7bd292b207c34f569082c1ff87963619</td>\n",
       "      <td>NaN</td>\n",
       "      <td>NaN</td>\n",
       "      <td>{}</td>\n",
       "      <td>rejected</td>\n",
       "    </tr>\n",
       "    <tr>\n",
       "      <th>1542</th>\n",
       "      <td>127521</td>\n",
       "      <td>0b677d16a072467eb95dd396e25840d9</td>\n",
       "      <td>clear</td>\n",
       "      <td>clear</td>\n",
       "      <td>clear</td>\n",
       "      <td>clear</td>\n",
       "      <td>clear</td>\n",
       "      <td>2017-08-31 22:38:25</td>\n",
       "      <td>clear</td>\n",
       "      <td>clear</td>\n",
       "      <td>clear</td>\n",
       "      <td>clear</td>\n",
       "      <td>clear</td>\n",
       "      <td>NaN</td>\n",
       "      <td>344fecf0bcbc42e3a8bd92bc469e1ddd</td>\n",
       "      <td>clear</td>\n",
       "      <td>NaN</td>\n",
       "      <td>{'gender': 'Male', 'nationality': 'TWN', 'docu...</td>\n",
       "      <td>clear</td>\n",
       "    </tr>\n",
       "  </tbody>\n",
       "</table>\n",
       "</div>"
      ],
      "text/plain": [
       "      Unnamed: 0                           user_id    result  \\\n",
       "2989       88899  0a743f7f87884a51bd8c165e0d3e70ed  consider   \n",
       "3755       88935  0a743f7f87884a51bd8c165e0d3e70ed  consider   \n",
       "2914      104674  0b3fe48a14554fa687e5152a1c20d768     clear   \n",
       "3367      104039  0b3fe48a14554fa687e5152a1c20d768     clear   \n",
       "1588      127513  0b677d16a072467eb95dd396e25840d9  consider   \n",
       "1542      127521  0b677d16a072467eb95dd396e25840d9     clear   \n",
       "\n",
       "     visual_authenticity_result image_integrity_result face_detection_result  \\\n",
       "2989                        NaN               consider                   NaN   \n",
       "3755                        NaN               consider                   NaN   \n",
       "2914                      clear                  clear                 clear   \n",
       "3367                      clear                  clear                 clear   \n",
       "1588                        NaN               consider                   NaN   \n",
       "1542                      clear                  clear                 clear   \n",
       "\n",
       "     image_quality_result          created_at supported_document_result  \\\n",
       "2989         unidentified 2017-09-30 09:55:07                     clear   \n",
       "3755         unidentified 2017-09-30 10:06:16                     clear   \n",
       "2914                clear 2017-09-19 17:39:42                     clear   \n",
       "3367                clear 2017-09-19 17:58:58                     clear   \n",
       "1588         unidentified 2017-08-31 22:30:14                     clear   \n",
       "1542                clear 2017-08-31 22:38:25                     clear   \n",
       "\n",
       "     conclusive_document_quality_result colour_picture_result  \\\n",
       "2989                                NaN                   NaN   \n",
       "3755                                NaN                   NaN   \n",
       "2914                              clear                 clear   \n",
       "3367                              clear                 clear   \n",
       "1588                                NaN                   NaN   \n",
       "1542                              clear                 clear   \n",
       "\n",
       "     data_validation_result data_consistency_result data_comparison_result  \\\n",
       "2989                    NaN                     NaN                    NaN   \n",
       "3755                    NaN                     NaN                    NaN   \n",
       "2914                  clear                   clear                    NaN   \n",
       "3367                  clear                   clear                    NaN   \n",
       "1588                    NaN                     NaN                    NaN   \n",
       "1542                  clear                   clear                    NaN   \n",
       "\n",
       "                            attempt_id police_record_result  \\\n",
       "2989  98959d065b7d4d30af6785533a256eaa                  NaN   \n",
       "3755  7477c4c591d747abb6103941afdf5dfb                  NaN   \n",
       "2914  b6cd0902fdd74e72a0263781551cb8b7                clear   \n",
       "3367  5d02c7f7ad30435caeb88a0563393059                clear   \n",
       "1588  7bd292b207c34f569082c1ff87963619                  NaN   \n",
       "1542  344fecf0bcbc42e3a8bd92bc469e1ddd                clear   \n",
       "\n",
       "     compromised_document_result  \\\n",
       "2989                         NaN   \n",
       "3755                         NaN   \n",
       "2914                         NaN   \n",
       "3367                         NaN   \n",
       "1588                         NaN   \n",
       "1542                         NaN   \n",
       "\n",
       "                                             properties sub_result  \n",
       "2989                                                 {}   rejected  \n",
       "3755                                                 {}   rejected  \n",
       "2914  {'gender': 'Male', 'nationality': 'BEL', 'docu...      clear  \n",
       "3367  {'gender': 'Male', 'nationality': 'BEL', 'docu...      clear  \n",
       "1588                                                 {}   rejected  \n",
       "1542  {'gender': 'Male', 'nationality': 'TWN', 'docu...      clear  "
      ]
     },
     "execution_count": 9,
     "metadata": {},
     "output_type": "execute_result"
    }
   ],
   "source": [
    "documents[documents.duplicated(keep=False, subset=[\"user_id\"])].sort_values(by=[\"user_id\",\"created_at\"],ascending=[True, True]).head(6)"
   ]
  },
  {
   "cell_type": "code",
   "execution_count": null,
   "metadata": {},
   "outputs": [],
   "source": []
  },
  {
   "cell_type": "markdown",
   "metadata": {},
   "source": [
    "### High Level Analysis"
   ]
  },
  {
   "cell_type": "code",
   "execution_count": 34,
   "metadata": {},
   "outputs": [
    {
     "data": {
      "text/plain": [
       "97"
      ]
     },
     "execution_count": 34,
     "metadata": {},
     "output_type": "execute_result"
    }
   ],
   "source": [
    "# Documents: Document Failures - Visual Authenticity \n",
    "# Asserts whether visual, non-textual, elements are correct given the type of document\n",
    "visual_authenticity_fail = documents[documents[\"visual_authenticity_result\"]!=\"clear\"]\n",
    "visual_authenticity_fail[\"visual_authenticity_result\"].count()"
   ]
  },
  {
   "cell_type": "code",
   "execution_count": 35,
   "metadata": {},
   "outputs": [
    {
     "data": {
      "text/plain": [
       "5"
      ]
     },
     "execution_count": 35,
     "metadata": {},
     "output_type": "execute_result"
    }
   ],
   "source": [
    "# Asserts whether data on the document is consistent with data provided by an applicant \n",
    "# (either through Veritas’s applicant form or when creating an applicant through the API)\n",
    "data_comparison_fail = documents[documents[\"data_comparison_result\"]!=\"clear\"]\n",
    "data_comparison_fail[\"data_comparison_result\"].count()"
   ]
  },
  {
   "cell_type": "code",
   "execution_count": 36,
   "metadata": {},
   "outputs": [
    {
     "data": {
      "text/plain": [
       "5"
      ]
     },
     "execution_count": 36,
     "metadata": {},
     "output_type": "execute_result"
    }
   ],
   "source": [
    "# Asserts whether data represented in multiple places on the document is consistent \n",
    "# e.g. between MRZ lines and OCR extracted text on passports\n",
    "data_consistency_fail = documents[documents[\"data_consistency_result\"]!=\"clear\"]\n",
    "data_consistency_fail[\"data_consistency_result\"].count()"
   ]
  },
  {
   "cell_type": "code",
   "execution_count": 37,
   "metadata": {},
   "outputs": [
    {
     "data": {
      "text/plain": [
       "56"
      ]
     },
     "execution_count": 37,
     "metadata": {},
     "output_type": "execute_result"
    }
   ],
   "source": [
    "# Data Validation Asserts whether algorithmically-validatable elements are correct \n",
    "# e.g. MRZ lines and document numbers\n",
    "data_validation_fail = documents[documents[\"data_validation_result\"]!=\"clear\"]\n",
    "data_validation_fail[\"data_validation_result\"].count()"
   ]
  },
  {
   "cell_type": "code",
   "execution_count": 38,
   "metadata": {},
   "outputs": [
    {
     "data": {
      "text/plain": [
       "0"
      ]
     },
     "execution_count": 38,
     "metadata": {},
     "output_type": "execute_result"
    }
   ],
   "source": [
    "# Asserts whether the image of the document has been found in our internal database of compromised documents\n",
    "compromised_document = documents[documents[\"compromised_document_result\"]!=\"clear\"]\n",
    "compromised_document[\"compromised_document_result\"].count()"
   ]
  },
  {
   "cell_type": "markdown",
   "metadata": {},
   "source": [
    "###  1)  Image Integrity Failures"
   ]
  },
  {
   "cell_type": "code",
   "execution_count": 39,
   "metadata": {},
   "outputs": [
    {
     "data": {
      "text/plain": [
       "1337"
      ]
     },
     "execution_count": 39,
     "metadata": {},
     "output_type": "execute_result"
    }
   ],
   "source": [
    "# DOCUMENTS: Primary Document Failures - image integrity \n",
    "# Asserts whether the document was of sufficient quality to verify\n",
    "image_integrity_fail = documents[documents[\"image_integrity_result\"]!=\"clear\"]\n",
    "image_integrity_fail[\"image_integrity_result\"].count()"
   ]
  },
  {
   "cell_type": "markdown",
   "metadata": {},
   "source": [
    "1) ii - Image Quality Failure Sub Categories"
   ]
  },
  {
   "cell_type": "code",
   "execution_count": 40,
   "metadata": {},
   "outputs": [
    {
     "data": {
      "text/plain": [
       "834"
      ]
     },
     "execution_count": 40,
     "metadata": {},
     "output_type": "execute_result"
    }
   ],
   "source": [
    "# Image Integrity - sub Error, Image Quality\n",
    "image_quality_fail = documents[documents[\"image_quality_result\"]!=\"clear\"]\n",
    "image_quality_fail[\"image_quality_result\"].count()"
   ]
  },
  {
   "cell_type": "code",
   "execution_count": 41,
   "metadata": {},
   "outputs": [
    {
     "data": {
      "text/plain": [
       "55"
      ]
     },
     "execution_count": 41,
     "metadata": {},
     "output_type": "execute_result"
    }
   ],
   "source": [
    "# Image Integrity - sub Error, supported Document\n",
    "supported_document_fail = documents[documents[\"supported_document_result\"]!=\"clear\"]\n",
    "supported_document_fail[\"supported_document_result\"].count()"
   ]
  },
  {
   "cell_type": "code",
   "execution_count": 42,
   "metadata": {},
   "outputs": [
    {
     "data": {
      "text/plain": [
       "2"
      ]
     },
     "execution_count": 42,
     "metadata": {},
     "output_type": "execute_result"
    }
   ],
   "source": [
    "# Image Integrity - sub Error, Colour Picture\n",
    "colour_picture_fail = documents[documents[\"colour_picture_result\"]!=\"clear\"]\n",
    "colour_picture_fail[\"colour_picture_result\"].count()"
   ]
  },
  {
   "cell_type": "code",
   "execution_count": 43,
   "metadata": {},
   "outputs": [
    {
     "data": {
      "text/plain": [
       "446"
      ]
     },
     "execution_count": 43,
     "metadata": {},
     "output_type": "execute_result"
    }
   ],
   "source": [
    "# Image Integrity - sub Error, Conclusive Document Quality\n",
    "conclusive_document_quality_fail = documents[documents[\"conclusive_document_quality_result\"]!=\"clear\"]\n",
    "conclusive_document_quality_fail[\"conclusive_document_quality_result\"].count()"
   ]
  },
  {
   "cell_type": "markdown",
   "metadata": {},
   "source": [
    "Other Features"
   ]
  },
  {
   "cell_type": "code",
   "execution_count": 44,
   "metadata": {},
   "outputs": [
    {
     "data": {
      "text/plain": [
       "23"
      ]
     },
     "execution_count": 44,
     "metadata": {},
     "output_type": "execute_result"
    }
   ],
   "source": [
    "# DOCUMENTS: Primary Document Failures - face Detection\n",
    "face_detection_fail = documents[documents[\"face_detection_result\"]!=\"clear\"]\n",
    "face_detection_fail[\"face_detection_result\"].count()"
   ]
  },
  {
   "cell_type": "code",
   "execution_count": 45,
   "metadata": {},
   "outputs": [
    {
     "data": {
      "text/plain": [
       "0"
      ]
     },
     "execution_count": 45,
     "metadata": {},
     "output_type": "execute_result"
    }
   ],
   "source": [
    "# Asserts whether the document has been identified as lost, stolen or otherwise compromised\n",
    "police_record = documents[documents[\"police_record_result\"]!=\"clear\"]\n",
    "police_record[\"police_record_result\"].count()"
   ]
  },
  {
   "cell_type": "markdown",
   "metadata": {},
   "source": [
    "### Sub result analysis\n"
   ]
  },
  {
   "cell_type": "code",
   "execution_count": 46,
   "metadata": {},
   "outputs": [
    {
     "data": {
      "text/plain": [
       "889"
      ]
     },
     "execution_count": 46,
     "metadata": {},
     "output_type": "execute_result"
    }
   ],
   "source": [
    "# Rejected sub-results count \n",
    "rejected_sub_result = documents[documents[\"sub_result\"] == \"rejected\"]\n",
    "rejected_sub_result['sub_result'].count()"
   ]
  },
  {
   "cell_type": "code",
   "execution_count": 47,
   "metadata": {},
   "outputs": [
    {
     "data": {
      "text/plain": [
       "4406"
      ]
     },
     "execution_count": 47,
     "metadata": {},
     "output_type": "execute_result"
    }
   ],
   "source": [
    "# Clear sub-result count\n",
    "clear_sub_result = documents[documents[\"sub_result\"] == \"clear\"]\n",
    "clear_sub_result['sub_result'].count()"
   ]
  },
  {
   "cell_type": "code",
   "execution_count": 48,
   "metadata": {},
   "outputs": [
    {
     "data": {
      "text/plain": [
       "60"
      ]
     },
     "execution_count": 48,
     "metadata": {},
     "output_type": "execute_result"
    }
   ],
   "source": [
    "# Caution sub-result count \n",
    "suspected_sub_result = documents[documents['sub_result'] == \"suspected\"]\n",
    "suspected_sub_result[\"sub_result\"].count()"
   ]
  },
  {
   "cell_type": "markdown",
   "metadata": {},
   "source": [
    "## Analysis of the Face Check Failures"
   ]
  },
  {
   "cell_type": "code",
   "execution_count": 49,
   "metadata": {},
   "outputs": [
    {
     "data": {
      "text/html": [
       "<div>\n",
       "<style scoped>\n",
       "    .dataframe tbody tr th:only-of-type {\n",
       "        vertical-align: middle;\n",
       "    }\n",
       "\n",
       "    .dataframe tbody tr th {\n",
       "        vertical-align: top;\n",
       "    }\n",
       "\n",
       "    .dataframe thead th {\n",
       "        text-align: right;\n",
       "    }\n",
       "</style>\n",
       "<table border=\"1\" class=\"dataframe\">\n",
       "  <thead>\n",
       "    <tr style=\"text-align: right;\">\n",
       "      <th></th>\n",
       "      <th>Unnamed: 0</th>\n",
       "      <th>user_id</th>\n",
       "      <th>result</th>\n",
       "      <th>face_comparison_result</th>\n",
       "      <th>created_at</th>\n",
       "      <th>facial_image_integrity_result</th>\n",
       "      <th>visual_authenticity_result</th>\n",
       "      <th>properties</th>\n",
       "      <th>attempt_id</th>\n",
       "    </tr>\n",
       "  </thead>\n",
       "  <tbody>\n",
       "    <tr>\n",
       "      <th>0</th>\n",
       "      <td>58</td>\n",
       "      <td>ecee468d4a124a8eafeec61271cd0da1</td>\n",
       "      <td>clear</td>\n",
       "      <td>clear</td>\n",
       "      <td>2017-06-20 17:50:43</td>\n",
       "      <td>clear</td>\n",
       "      <td>clear</td>\n",
       "      <td>{}</td>\n",
       "      <td>9e4277fc1ddf4a059da3dd2db35f6c76</td>\n",
       "    </tr>\n",
       "    <tr>\n",
       "      <th>1</th>\n",
       "      <td>76</td>\n",
       "      <td>1895d2b1782740bb8503b9bf3edf1ead</td>\n",
       "      <td>clear</td>\n",
       "      <td>clear</td>\n",
       "      <td>2017-06-20 13:28:00</td>\n",
       "      <td>clear</td>\n",
       "      <td>clear</td>\n",
       "      <td>{}</td>\n",
       "      <td>ab259d3cb33b4711b0a5174e4de1d72c</td>\n",
       "    </tr>\n",
       "    <tr>\n",
       "      <th>2</th>\n",
       "      <td>217</td>\n",
       "      <td>e71b27ea145249878b10f5b3f1fb4317</td>\n",
       "      <td>clear</td>\n",
       "      <td>clear</td>\n",
       "      <td>2017-06-18 21:18:31</td>\n",
       "      <td>clear</td>\n",
       "      <td>clear</td>\n",
       "      <td>{}</td>\n",
       "      <td>2b7f1c6f3fc5416286d9f1c97b15e8f9</td>\n",
       "    </tr>\n",
       "    <tr>\n",
       "      <th>3</th>\n",
       "      <td>221</td>\n",
       "      <td>f512dc74bd1b4c109d9bd2981518a9f8</td>\n",
       "      <td>clear</td>\n",
       "      <td>clear</td>\n",
       "      <td>2017-06-18 22:17:29</td>\n",
       "      <td>clear</td>\n",
       "      <td>clear</td>\n",
       "      <td>{}</td>\n",
       "      <td>ab5989375b514968b2ff2b21095ed1ef</td>\n",
       "    </tr>\n",
       "    <tr>\n",
       "      <th>4</th>\n",
       "      <td>251</td>\n",
       "      <td>0685c7945d1349b7a954e1a0869bae4b</td>\n",
       "      <td>clear</td>\n",
       "      <td>clear</td>\n",
       "      <td>2017-06-18 19:54:21</td>\n",
       "      <td>clear</td>\n",
       "      <td>clear</td>\n",
       "      <td>{}</td>\n",
       "      <td>dd1b0b2dbe234f4cb747cc054de2fdd3</td>\n",
       "    </tr>\n",
       "  </tbody>\n",
       "</table>\n",
       "</div>"
      ],
      "text/plain": [
       "   Unnamed: 0                           user_id result face_comparison_result  \\\n",
       "0          58  ecee468d4a124a8eafeec61271cd0da1  clear                  clear   \n",
       "1          76  1895d2b1782740bb8503b9bf3edf1ead  clear                  clear   \n",
       "2         217  e71b27ea145249878b10f5b3f1fb4317  clear                  clear   \n",
       "3         221  f512dc74bd1b4c109d9bd2981518a9f8  clear                  clear   \n",
       "4         251  0685c7945d1349b7a954e1a0869bae4b  clear                  clear   \n",
       "\n",
       "           created_at facial_image_integrity_result  \\\n",
       "0 2017-06-20 17:50:43                         clear   \n",
       "1 2017-06-20 13:28:00                         clear   \n",
       "2 2017-06-18 21:18:31                         clear   \n",
       "3 2017-06-18 22:17:29                         clear   \n",
       "4 2017-06-18 19:54:21                         clear   \n",
       "\n",
       "  visual_authenticity_result properties                        attempt_id  \n",
       "0                      clear         {}  9e4277fc1ddf4a059da3dd2db35f6c76  \n",
       "1                      clear         {}  ab259d3cb33b4711b0a5174e4de1d72c  \n",
       "2                      clear         {}  2b7f1c6f3fc5416286d9f1c97b15e8f9  \n",
       "3                      clear         {}  ab5989375b514968b2ff2b21095ed1ef  \n",
       "4                      clear         {}  dd1b0b2dbe234f4cb747cc054de2fdd3  "
      ]
     },
     "execution_count": 49,
     "metadata": {},
     "output_type": "execute_result"
    }
   ],
   "source": [
    "faces.head(5)"
   ]
  },
  {
   "cell_type": "markdown",
   "metadata": {},
   "source": [
    "### Retry Analaysis"
   ]
  },
  {
   "cell_type": "code",
   "execution_count": 59,
   "metadata": {},
   "outputs": [
    {
     "data": {
      "text/plain": [
       "32"
      ]
     },
     "execution_count": 59,
     "metadata": {},
     "output_type": "execute_result"
    }
   ],
   "source": [
    "faces_retry = faces[faces.duplicated(subset=[\"user_id\"])]\n",
    "faces_retry[\"user_id\"].count()"
   ]
  },
  {
   "cell_type": "code",
   "execution_count": 79,
   "metadata": {},
   "outputs": [
    {
     "data": {
      "text/html": [
       "<div>\n",
       "<style scoped>\n",
       "    .dataframe tbody tr th:only-of-type {\n",
       "        vertical-align: middle;\n",
       "    }\n",
       "\n",
       "    .dataframe tbody tr th {\n",
       "        vertical-align: top;\n",
       "    }\n",
       "\n",
       "    .dataframe thead th {\n",
       "        text-align: right;\n",
       "    }\n",
       "</style>\n",
       "<table border=\"1\" class=\"dataframe\">\n",
       "  <thead>\n",
       "    <tr style=\"text-align: right;\">\n",
       "      <th></th>\n",
       "      <th>Unnamed: 0</th>\n",
       "      <th>user_id</th>\n",
       "      <th>result</th>\n",
       "      <th>face_comparison_result</th>\n",
       "      <th>created_at</th>\n",
       "      <th>facial_image_integrity_result</th>\n",
       "      <th>visual_authenticity_result</th>\n",
       "      <th>properties</th>\n",
       "      <th>attempt_id</th>\n",
       "    </tr>\n",
       "  </thead>\n",
       "  <tbody>\n",
       "    <tr>\n",
       "      <th>2874</th>\n",
       "      <td>88899</td>\n",
       "      <td>0a743f7f87884a51bd8c165e0d3e70ed</td>\n",
       "      <td>consider</td>\n",
       "      <td>NaN</td>\n",
       "      <td>2017-09-30 09:55:07</td>\n",
       "      <td>consider</td>\n",
       "      <td>NaN</td>\n",
       "      <td>{}</td>\n",
       "      <td>98959d065b7d4d30af6785533a256eaa</td>\n",
       "    </tr>\n",
       "    <tr>\n",
       "      <th>2879</th>\n",
       "      <td>88935</td>\n",
       "      <td>0a743f7f87884a51bd8c165e0d3e70ed</td>\n",
       "      <td>clear</td>\n",
       "      <td>clear</td>\n",
       "      <td>2017-09-30 10:06:15</td>\n",
       "      <td>clear</td>\n",
       "      <td>NaN</td>\n",
       "      <td>{}</td>\n",
       "      <td>7477c4c591d747abb6103941afdf5dfb</td>\n",
       "    </tr>\n",
       "    <tr>\n",
       "      <th>3350</th>\n",
       "      <td>104674</td>\n",
       "      <td>0b3fe48a14554fa687e5152a1c20d768</td>\n",
       "      <td>clear</td>\n",
       "      <td>clear</td>\n",
       "      <td>2017-09-19 17:39:43</td>\n",
       "      <td>clear</td>\n",
       "      <td>clear</td>\n",
       "      <td>{}</td>\n",
       "      <td>b6cd0902fdd74e72a0263781551cb8b7</td>\n",
       "    </tr>\n",
       "    <tr>\n",
       "      <th>3334</th>\n",
       "      <td>104039</td>\n",
       "      <td>0b3fe48a14554fa687e5152a1c20d768</td>\n",
       "      <td>clear</td>\n",
       "      <td>clear</td>\n",
       "      <td>2017-09-19 17:58:58</td>\n",
       "      <td>clear</td>\n",
       "      <td>clear</td>\n",
       "      <td>{}</td>\n",
       "      <td>5d02c7f7ad30435caeb88a0563393059</td>\n",
       "    </tr>\n",
       "    <tr>\n",
       "      <th>4085</th>\n",
       "      <td>127513</td>\n",
       "      <td>0b677d16a072467eb95dd396e25840d9</td>\n",
       "      <td>clear</td>\n",
       "      <td>clear</td>\n",
       "      <td>2017-08-31 22:30:14</td>\n",
       "      <td>clear</td>\n",
       "      <td>NaN</td>\n",
       "      <td>{}</td>\n",
       "      <td>7bd292b207c34f569082c1ff87963619</td>\n",
       "    </tr>\n",
       "    <tr>\n",
       "      <th>...</th>\n",
       "      <td>...</td>\n",
       "      <td>...</td>\n",
       "      <td>...</td>\n",
       "      <td>...</td>\n",
       "      <td>...</td>\n",
       "      <td>...</td>\n",
       "      <td>...</td>\n",
       "      <td>...</td>\n",
       "      <td>...</td>\n",
       "    </tr>\n",
       "    <tr>\n",
       "      <th>3345</th>\n",
       "      <td>104370</td>\n",
       "      <td>e96cd0bcab7c4dfbb6b9294f17afc577</td>\n",
       "      <td>clear</td>\n",
       "      <td>clear</td>\n",
       "      <td>2017-09-19 20:43:47</td>\n",
       "      <td>clear</td>\n",
       "      <td>clear</td>\n",
       "      <td>{}</td>\n",
       "      <td>cad8b8deac2340f283f1ccd0b1920462</td>\n",
       "    </tr>\n",
       "    <tr>\n",
       "      <th>5437</th>\n",
       "      <td>169000</td>\n",
       "      <td>edc77146e73c48be994bf45036a8c48c</td>\n",
       "      <td>consider</td>\n",
       "      <td>NaN</td>\n",
       "      <td>2017-07-17 13:26:25</td>\n",
       "      <td>consider</td>\n",
       "      <td>clear</td>\n",
       "      <td>{}</td>\n",
       "      <td>6e09c41e3f154dc4b0ad69be95fc2ded</td>\n",
       "    </tr>\n",
       "    <tr>\n",
       "      <th>5439</th>\n",
       "      <td>169023</td>\n",
       "      <td>edc77146e73c48be994bf45036a8c48c</td>\n",
       "      <td>consider</td>\n",
       "      <td>NaN</td>\n",
       "      <td>2017-07-17 13:39:47</td>\n",
       "      <td>consider</td>\n",
       "      <td>clear</td>\n",
       "      <td>{}</td>\n",
       "      <td>59aff42d707148d4a72560a066ef86e4</td>\n",
       "    </tr>\n",
       "    <tr>\n",
       "      <th>5344</th>\n",
       "      <td>166044</td>\n",
       "      <td>f218379dd76b4058958450cb9aaea143</td>\n",
       "      <td>clear</td>\n",
       "      <td>clear</td>\n",
       "      <td>2017-07-20 15:39:32</td>\n",
       "      <td>clear</td>\n",
       "      <td>consider</td>\n",
       "      <td>{}</td>\n",
       "      <td>e33e9fc3588d43a8aa22ef91a5e56da7</td>\n",
       "    </tr>\n",
       "    <tr>\n",
       "      <th>5334</th>\n",
       "      <td>165796</td>\n",
       "      <td>f218379dd76b4058958450cb9aaea143</td>\n",
       "      <td>clear</td>\n",
       "      <td>clear</td>\n",
       "      <td>2017-07-20 18:46:48</td>\n",
       "      <td>clear</td>\n",
       "      <td>clear</td>\n",
       "      <td>{}</td>\n",
       "      <td>0ea08f1b57cc41558018fcef539b638b</td>\n",
       "    </tr>\n",
       "  </tbody>\n",
       "</table>\n",
       "<p>64 rows × 9 columns</p>\n",
       "</div>"
      ],
      "text/plain": [
       "      Unnamed: 0                           user_id    result  \\\n",
       "2874       88899  0a743f7f87884a51bd8c165e0d3e70ed  consider   \n",
       "2879       88935  0a743f7f87884a51bd8c165e0d3e70ed     clear   \n",
       "3350      104674  0b3fe48a14554fa687e5152a1c20d768     clear   \n",
       "3334      104039  0b3fe48a14554fa687e5152a1c20d768     clear   \n",
       "4085      127513  0b677d16a072467eb95dd396e25840d9     clear   \n",
       "...          ...                               ...       ...   \n",
       "3345      104370  e96cd0bcab7c4dfbb6b9294f17afc577     clear   \n",
       "5437      169000  edc77146e73c48be994bf45036a8c48c  consider   \n",
       "5439      169023  edc77146e73c48be994bf45036a8c48c  consider   \n",
       "5344      166044  f218379dd76b4058958450cb9aaea143     clear   \n",
       "5334      165796  f218379dd76b4058958450cb9aaea143     clear   \n",
       "\n",
       "     face_comparison_result          created_at facial_image_integrity_result  \\\n",
       "2874                    NaN 2017-09-30 09:55:07                      consider   \n",
       "2879                  clear 2017-09-30 10:06:15                         clear   \n",
       "3350                  clear 2017-09-19 17:39:43                         clear   \n",
       "3334                  clear 2017-09-19 17:58:58                         clear   \n",
       "4085                  clear 2017-08-31 22:30:14                         clear   \n",
       "...                     ...                 ...                           ...   \n",
       "3345                  clear 2017-09-19 20:43:47                         clear   \n",
       "5437                    NaN 2017-07-17 13:26:25                      consider   \n",
       "5439                    NaN 2017-07-17 13:39:47                      consider   \n",
       "5344                  clear 2017-07-20 15:39:32                         clear   \n",
       "5334                  clear 2017-07-20 18:46:48                         clear   \n",
       "\n",
       "     visual_authenticity_result properties                        attempt_id  \n",
       "2874                        NaN         {}  98959d065b7d4d30af6785533a256eaa  \n",
       "2879                        NaN         {}  7477c4c591d747abb6103941afdf5dfb  \n",
       "3350                      clear         {}  b6cd0902fdd74e72a0263781551cb8b7  \n",
       "3334                      clear         {}  5d02c7f7ad30435caeb88a0563393059  \n",
       "4085                        NaN         {}  7bd292b207c34f569082c1ff87963619  \n",
       "...                         ...        ...                               ...  \n",
       "3345                      clear         {}  cad8b8deac2340f283f1ccd0b1920462  \n",
       "5437                      clear         {}  6e09c41e3f154dc4b0ad69be95fc2ded  \n",
       "5439                      clear         {}  59aff42d707148d4a72560a066ef86e4  \n",
       "5344                   consider         {}  e33e9fc3588d43a8aa22ef91a5e56da7  \n",
       "5334                      clear         {}  0ea08f1b57cc41558018fcef539b638b  \n",
       "\n",
       "[64 rows x 9 columns]"
      ]
     },
     "execution_count": 79,
     "metadata": {},
     "output_type": "execute_result"
    }
   ],
   "source": [
    "faces[faces.duplicated(keep=False, subset=[\"user_id\"])].sort_values(by=[\"user_id\",\"created_at\"],ascending=[True, True])\n"
   ]
  },
  {
   "cell_type": "markdown",
   "metadata": {},
   "source": [
    "### Summary of Failure Reasons\n",
    "Analysis of the reasons for failure of facial recognition step"
   ]
  },
  {
   "cell_type": "code",
   "execution_count": 50,
   "metadata": {},
   "outputs": [
    {
     "data": {
      "text/plain": [
       "326"
      ]
     },
     "execution_count": 50,
     "metadata": {},
     "output_type": "execute_result"
    }
   ],
   "source": [
    "# Facial Image Integrity - Asserts whether the quality of the uploaded files and \n",
    "# the content contained within them was insufficient to perform a face comparison \n",
    "facial_image_integrity_fail = faces[faces[\"facial_image_integrity_result\"]!=\"clear\"]\n",
    "facial_image_integrity_fail[\"facial_image_integrity_result\"].count()"
   ]
  },
  {
   "cell_type": "code",
   "execution_count": 51,
   "metadata": {},
   "outputs": [
    {
     "data": {
      "text/plain": [
       "88.8283378746594"
      ]
     },
     "execution_count": 51,
     "metadata": {},
     "output_type": "execute_result"
    }
   ],
   "source": [
    "# Facial Image Integirty % Fail\n",
    "facial_image_integreit_fail_proportion = facial_image_integrity_fail[\"facial_image_integrity_result\"].count()/faces_failures[\"result\"].count()*100\n",
    "facial_image_integreit_fail_proportion"
   ]
  },
  {
   "cell_type": "code",
   "execution_count": 52,
   "metadata": {},
   "outputs": [
    {
     "data": {
      "text/plain": [
       "22"
      ]
     },
     "execution_count": 52,
     "metadata": {},
     "output_type": "execute_result"
    }
   ],
   "source": [
    "# Comparison Fail - Asserts whether the face in the document matches the face in the live photo or live video\n",
    "face_comparison_fail = faces[faces[\"face_comparison_result\"]!=\"clear\"]\n",
    "face_comparison_fail[\"face_comparison_result\"].count()"
   ]
  },
  {
   "cell_type": "code",
   "execution_count": 53,
   "metadata": {},
   "outputs": [
    {
     "data": {
      "text/plain": [
       "97"
      ]
     },
     "execution_count": 53,
     "metadata": {},
     "output_type": "execute_result"
    }
   ],
   "source": [
    "# Authenticity Fail - Asserts whether the live photo or live video is not a spoof \n",
    "# (such as photos of printed photos or photos of digital screens)\n",
    "visual_authenticity_fail = faces[faces[\"visual_authenticity_result\"]!=\"clear\"]\n",
    "visual_authenticity_fail[\"visual_authenticity_result\"].count()"
   ]
  }
 ],
 "metadata": {
  "kernelspec": {
   "display_name": "Python 3",
   "language": "python",
   "name": "python3"
  },
  "language_info": {
   "codemirror_mode": {
    "name": "ipython",
    "version": 3
   },
   "file_extension": ".py",
   "mimetype": "text/x-python",
   "name": "python",
   "nbconvert_exporter": "python",
   "pygments_lexer": "ipython3",
   "version": "3.8.5"
  }
 },
 "nbformat": 4,
 "nbformat_minor": 4
}
